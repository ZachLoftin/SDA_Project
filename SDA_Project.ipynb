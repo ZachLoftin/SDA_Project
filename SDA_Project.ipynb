{
 "cells": [
  {
   "cell_type": "markdown",
   "metadata": {},
   "source": [
    "# Which one is a better plan?\n",
    "\n",
    "You work as an analyst for the telecom operator Megaline. The company offers its clients two prepaid plans, Surf and Ultimate. The commercial department wants to know which of the plans brings in more revenue in order to adjust the advertising budget.\n",
    "\n",
    "You are going to carry out a preliminary analysis of the plans based on a relatively small client selection. You'll have the data on 500 Megaline clients: who the clients are, where they're from, which plan they use, and the number of calls they made and text messages they sent in 2018. Your job is to analyze the clients' behavior and determine which prepaid plan brings in more revenue."
   ]
  },
  {
   "cell_type": "markdown",
   "metadata": {},
   "source": [
    "[We've provided you with some commentary to guide your thinking as you complete this project. However, make sure to remove all the bracketed comments before submitting your project.]\n",
    "\n",
    "[Before you dive into analyzing your data, explain for yourself the purpose of the project and actions you plan to take.]\n",
    "\n",
    "[Please bear in mind that studying, amending, and analyzing data is an iterative process. It is normal to return to previous steps and correct/expand them to allow for further steps.]"
   ]
  },
  {
   "cell_type": "markdown",
   "metadata": {},
   "source": [
    "## Initialization"
   ]
  },
  {
   "cell_type": "markdown",
   "metadata": {},
   "source": [
    "First, I'll load all the possible necessary libraries"
   ]
  },
  {
   "cell_type": "code",
   "execution_count": 1,
   "metadata": {},
   "outputs": [],
   "source": [
    "# Loading all the libraries\n",
    "import pandas as pd\n",
    "import numpy as np\n",
    "from scipy import stats as st\n",
    "from matplotlib import pyplot as plt\n",
    "\n"
   ]
  },
  {
   "cell_type": "markdown",
   "metadata": {},
   "source": [
    "## Load data"
   ]
  },
  {
   "cell_type": "markdown",
   "metadata": {},
   "source": [
    "Load all the data by reading all the csv files"
   ]
  },
  {
   "cell_type": "code",
   "execution_count": 2,
   "metadata": {},
   "outputs": [],
   "source": [
    "# Load the data files into different DataFrames\n",
    "calls = pd.read_csv('/datasets/megaline_calls.csv')\n",
    "internet = pd.read_csv('/datasets/megaline_internet.csv')\n",
    "messages = pd.read_csv('/datasets/megaline_messages.csv')\n",
    "plans = pd.read_csv('/datasets/megaline_plans.csv')\n",
    "users = pd.read_csv('/datasets/megaline_users.csv')"
   ]
  },
  {
   "cell_type": "markdown",
   "metadata": {},
   "source": [
    "## Prepare the data"
   ]
  },
  {
   "cell_type": "markdown",
   "metadata": {},
   "source": [
    "Before preparing the data, call display() on each dataset to see if everything looks good"
   ]
  },
  {
   "cell_type": "code",
   "execution_count": 3,
   "metadata": {},
   "outputs": [
    {
     "data": {
      "text/html": [
       "<div>\n",
       "<style scoped>\n",
       "    .dataframe tbody tr th:only-of-type {\n",
       "        vertical-align: middle;\n",
       "    }\n",
       "\n",
       "    .dataframe tbody tr th {\n",
       "        vertical-align: top;\n",
       "    }\n",
       "\n",
       "    .dataframe thead th {\n",
       "        text-align: right;\n",
       "    }\n",
       "</style>\n",
       "<table border=\"1\" class=\"dataframe\">\n",
       "  <thead>\n",
       "    <tr style=\"text-align: right;\">\n",
       "      <th></th>\n",
       "      <th>id</th>\n",
       "      <th>user_id</th>\n",
       "      <th>call_date</th>\n",
       "      <th>duration</th>\n",
       "    </tr>\n",
       "  </thead>\n",
       "  <tbody>\n",
       "    <tr>\n",
       "      <th>0</th>\n",
       "      <td>1000_93</td>\n",
       "      <td>1000</td>\n",
       "      <td>2018-12-27</td>\n",
       "      <td>8.52</td>\n",
       "    </tr>\n",
       "    <tr>\n",
       "      <th>1</th>\n",
       "      <td>1000_145</td>\n",
       "      <td>1000</td>\n",
       "      <td>2018-12-27</td>\n",
       "      <td>13.66</td>\n",
       "    </tr>\n",
       "    <tr>\n",
       "      <th>2</th>\n",
       "      <td>1000_247</td>\n",
       "      <td>1000</td>\n",
       "      <td>2018-12-27</td>\n",
       "      <td>14.48</td>\n",
       "    </tr>\n",
       "    <tr>\n",
       "      <th>3</th>\n",
       "      <td>1000_309</td>\n",
       "      <td>1000</td>\n",
       "      <td>2018-12-28</td>\n",
       "      <td>5.76</td>\n",
       "    </tr>\n",
       "    <tr>\n",
       "      <th>4</th>\n",
       "      <td>1000_380</td>\n",
       "      <td>1000</td>\n",
       "      <td>2018-12-30</td>\n",
       "      <td>4.22</td>\n",
       "    </tr>\n",
       "    <tr>\n",
       "      <th>...</th>\n",
       "      <td>...</td>\n",
       "      <td>...</td>\n",
       "      <td>...</td>\n",
       "      <td>...</td>\n",
       "    </tr>\n",
       "    <tr>\n",
       "      <th>137730</th>\n",
       "      <td>1499_199</td>\n",
       "      <td>1499</td>\n",
       "      <td>2018-11-21</td>\n",
       "      <td>8.72</td>\n",
       "    </tr>\n",
       "    <tr>\n",
       "      <th>137731</th>\n",
       "      <td>1499_200</td>\n",
       "      <td>1499</td>\n",
       "      <td>2018-10-20</td>\n",
       "      <td>10.89</td>\n",
       "    </tr>\n",
       "    <tr>\n",
       "      <th>137732</th>\n",
       "      <td>1499_201</td>\n",
       "      <td>1499</td>\n",
       "      <td>2018-09-21</td>\n",
       "      <td>8.12</td>\n",
       "    </tr>\n",
       "    <tr>\n",
       "      <th>137733</th>\n",
       "      <td>1499_202</td>\n",
       "      <td>1499</td>\n",
       "      <td>2018-10-10</td>\n",
       "      <td>0.37</td>\n",
       "    </tr>\n",
       "    <tr>\n",
       "      <th>137734</th>\n",
       "      <td>1499_203</td>\n",
       "      <td>1499</td>\n",
       "      <td>2018-12-29</td>\n",
       "      <td>13.86</td>\n",
       "    </tr>\n",
       "  </tbody>\n",
       "</table>\n",
       "<p>137735 rows × 4 columns</p>\n",
       "</div>"
      ],
      "text/plain": [
       "              id  user_id   call_date  duration\n",
       "0        1000_93     1000  2018-12-27      8.52\n",
       "1       1000_145     1000  2018-12-27     13.66\n",
       "2       1000_247     1000  2018-12-27     14.48\n",
       "3       1000_309     1000  2018-12-28      5.76\n",
       "4       1000_380     1000  2018-12-30      4.22\n",
       "...          ...      ...         ...       ...\n",
       "137730  1499_199     1499  2018-11-21      8.72\n",
       "137731  1499_200     1499  2018-10-20     10.89\n",
       "137732  1499_201     1499  2018-09-21      8.12\n",
       "137733  1499_202     1499  2018-10-10      0.37\n",
       "137734  1499_203     1499  2018-12-29     13.86\n",
       "\n",
       "[137735 rows x 4 columns]"
      ]
     },
     "metadata": {},
     "output_type": "display_data"
    },
    {
     "data": {
      "text/html": [
       "<div>\n",
       "<style scoped>\n",
       "    .dataframe tbody tr th:only-of-type {\n",
       "        vertical-align: middle;\n",
       "    }\n",
       "\n",
       "    .dataframe tbody tr th {\n",
       "        vertical-align: top;\n",
       "    }\n",
       "\n",
       "    .dataframe thead th {\n",
       "        text-align: right;\n",
       "    }\n",
       "</style>\n",
       "<table border=\"1\" class=\"dataframe\">\n",
       "  <thead>\n",
       "    <tr style=\"text-align: right;\">\n",
       "      <th></th>\n",
       "      <th>id</th>\n",
       "      <th>user_id</th>\n",
       "      <th>session_date</th>\n",
       "      <th>mb_used</th>\n",
       "    </tr>\n",
       "  </thead>\n",
       "  <tbody>\n",
       "    <tr>\n",
       "      <th>0</th>\n",
       "      <td>1000_13</td>\n",
       "      <td>1000</td>\n",
       "      <td>2018-12-29</td>\n",
       "      <td>89.86</td>\n",
       "    </tr>\n",
       "    <tr>\n",
       "      <th>1</th>\n",
       "      <td>1000_204</td>\n",
       "      <td>1000</td>\n",
       "      <td>2018-12-31</td>\n",
       "      <td>0.00</td>\n",
       "    </tr>\n",
       "    <tr>\n",
       "      <th>2</th>\n",
       "      <td>1000_379</td>\n",
       "      <td>1000</td>\n",
       "      <td>2018-12-28</td>\n",
       "      <td>660.40</td>\n",
       "    </tr>\n",
       "    <tr>\n",
       "      <th>3</th>\n",
       "      <td>1000_413</td>\n",
       "      <td>1000</td>\n",
       "      <td>2018-12-26</td>\n",
       "      <td>270.99</td>\n",
       "    </tr>\n",
       "    <tr>\n",
       "      <th>4</th>\n",
       "      <td>1000_442</td>\n",
       "      <td>1000</td>\n",
       "      <td>2018-12-27</td>\n",
       "      <td>880.22</td>\n",
       "    </tr>\n",
       "    <tr>\n",
       "      <th>...</th>\n",
       "      <td>...</td>\n",
       "      <td>...</td>\n",
       "      <td>...</td>\n",
       "      <td>...</td>\n",
       "    </tr>\n",
       "    <tr>\n",
       "      <th>104820</th>\n",
       "      <td>1499_215</td>\n",
       "      <td>1499</td>\n",
       "      <td>2018-10-20</td>\n",
       "      <td>218.06</td>\n",
       "    </tr>\n",
       "    <tr>\n",
       "      <th>104821</th>\n",
       "      <td>1499_216</td>\n",
       "      <td>1499</td>\n",
       "      <td>2018-12-30</td>\n",
       "      <td>304.72</td>\n",
       "    </tr>\n",
       "    <tr>\n",
       "      <th>104822</th>\n",
       "      <td>1499_217</td>\n",
       "      <td>1499</td>\n",
       "      <td>2018-09-22</td>\n",
       "      <td>292.75</td>\n",
       "    </tr>\n",
       "    <tr>\n",
       "      <th>104823</th>\n",
       "      <td>1499_218</td>\n",
       "      <td>1499</td>\n",
       "      <td>2018-12-07</td>\n",
       "      <td>0.00</td>\n",
       "    </tr>\n",
       "    <tr>\n",
       "      <th>104824</th>\n",
       "      <td>1499_219</td>\n",
       "      <td>1499</td>\n",
       "      <td>2018-12-24</td>\n",
       "      <td>758.31</td>\n",
       "    </tr>\n",
       "  </tbody>\n",
       "</table>\n",
       "<p>104825 rows × 4 columns</p>\n",
       "</div>"
      ],
      "text/plain": [
       "              id  user_id session_date  mb_used\n",
       "0        1000_13     1000   2018-12-29    89.86\n",
       "1       1000_204     1000   2018-12-31     0.00\n",
       "2       1000_379     1000   2018-12-28   660.40\n",
       "3       1000_413     1000   2018-12-26   270.99\n",
       "4       1000_442     1000   2018-12-27   880.22\n",
       "...          ...      ...          ...      ...\n",
       "104820  1499_215     1499   2018-10-20   218.06\n",
       "104821  1499_216     1499   2018-12-30   304.72\n",
       "104822  1499_217     1499   2018-09-22   292.75\n",
       "104823  1499_218     1499   2018-12-07     0.00\n",
       "104824  1499_219     1499   2018-12-24   758.31\n",
       "\n",
       "[104825 rows x 4 columns]"
      ]
     },
     "metadata": {},
     "output_type": "display_data"
    },
    {
     "data": {
      "text/html": [
       "<div>\n",
       "<style scoped>\n",
       "    .dataframe tbody tr th:only-of-type {\n",
       "        vertical-align: middle;\n",
       "    }\n",
       "\n",
       "    .dataframe tbody tr th {\n",
       "        vertical-align: top;\n",
       "    }\n",
       "\n",
       "    .dataframe thead th {\n",
       "        text-align: right;\n",
       "    }\n",
       "</style>\n",
       "<table border=\"1\" class=\"dataframe\">\n",
       "  <thead>\n",
       "    <tr style=\"text-align: right;\">\n",
       "      <th></th>\n",
       "      <th>id</th>\n",
       "      <th>user_id</th>\n",
       "      <th>message_date</th>\n",
       "    </tr>\n",
       "  </thead>\n",
       "  <tbody>\n",
       "    <tr>\n",
       "      <th>0</th>\n",
       "      <td>1000_125</td>\n",
       "      <td>1000</td>\n",
       "      <td>2018-12-27</td>\n",
       "    </tr>\n",
       "    <tr>\n",
       "      <th>1</th>\n",
       "      <td>1000_160</td>\n",
       "      <td>1000</td>\n",
       "      <td>2018-12-31</td>\n",
       "    </tr>\n",
       "    <tr>\n",
       "      <th>2</th>\n",
       "      <td>1000_223</td>\n",
       "      <td>1000</td>\n",
       "      <td>2018-12-31</td>\n",
       "    </tr>\n",
       "    <tr>\n",
       "      <th>3</th>\n",
       "      <td>1000_251</td>\n",
       "      <td>1000</td>\n",
       "      <td>2018-12-27</td>\n",
       "    </tr>\n",
       "    <tr>\n",
       "      <th>4</th>\n",
       "      <td>1000_255</td>\n",
       "      <td>1000</td>\n",
       "      <td>2018-12-26</td>\n",
       "    </tr>\n",
       "    <tr>\n",
       "      <th>...</th>\n",
       "      <td>...</td>\n",
       "      <td>...</td>\n",
       "      <td>...</td>\n",
       "    </tr>\n",
       "    <tr>\n",
       "      <th>76046</th>\n",
       "      <td>1497_526</td>\n",
       "      <td>1497</td>\n",
       "      <td>2018-12-24</td>\n",
       "    </tr>\n",
       "    <tr>\n",
       "      <th>76047</th>\n",
       "      <td>1497_536</td>\n",
       "      <td>1497</td>\n",
       "      <td>2018-12-24</td>\n",
       "    </tr>\n",
       "    <tr>\n",
       "      <th>76048</th>\n",
       "      <td>1497_547</td>\n",
       "      <td>1497</td>\n",
       "      <td>2018-12-31</td>\n",
       "    </tr>\n",
       "    <tr>\n",
       "      <th>76049</th>\n",
       "      <td>1497_558</td>\n",
       "      <td>1497</td>\n",
       "      <td>2018-12-24</td>\n",
       "    </tr>\n",
       "    <tr>\n",
       "      <th>76050</th>\n",
       "      <td>1497_613</td>\n",
       "      <td>1497</td>\n",
       "      <td>2018-12-23</td>\n",
       "    </tr>\n",
       "  </tbody>\n",
       "</table>\n",
       "<p>76051 rows × 3 columns</p>\n",
       "</div>"
      ],
      "text/plain": [
       "             id  user_id message_date\n",
       "0      1000_125     1000   2018-12-27\n",
       "1      1000_160     1000   2018-12-31\n",
       "2      1000_223     1000   2018-12-31\n",
       "3      1000_251     1000   2018-12-27\n",
       "4      1000_255     1000   2018-12-26\n",
       "...         ...      ...          ...\n",
       "76046  1497_526     1497   2018-12-24\n",
       "76047  1497_536     1497   2018-12-24\n",
       "76048  1497_547     1497   2018-12-31\n",
       "76049  1497_558     1497   2018-12-24\n",
       "76050  1497_613     1497   2018-12-23\n",
       "\n",
       "[76051 rows x 3 columns]"
      ]
     },
     "metadata": {},
     "output_type": "display_data"
    },
    {
     "data": {
      "text/html": [
       "<div>\n",
       "<style scoped>\n",
       "    .dataframe tbody tr th:only-of-type {\n",
       "        vertical-align: middle;\n",
       "    }\n",
       "\n",
       "    .dataframe tbody tr th {\n",
       "        vertical-align: top;\n",
       "    }\n",
       "\n",
       "    .dataframe thead th {\n",
       "        text-align: right;\n",
       "    }\n",
       "</style>\n",
       "<table border=\"1\" class=\"dataframe\">\n",
       "  <thead>\n",
       "    <tr style=\"text-align: right;\">\n",
       "      <th></th>\n",
       "      <th>messages_included</th>\n",
       "      <th>mb_per_month_included</th>\n",
       "      <th>minutes_included</th>\n",
       "      <th>usd_monthly_pay</th>\n",
       "      <th>usd_per_gb</th>\n",
       "      <th>usd_per_message</th>\n",
       "      <th>usd_per_minute</th>\n",
       "      <th>plan_name</th>\n",
       "    </tr>\n",
       "  </thead>\n",
       "  <tbody>\n",
       "    <tr>\n",
       "      <th>0</th>\n",
       "      <td>50</td>\n",
       "      <td>15360</td>\n",
       "      <td>500</td>\n",
       "      <td>20</td>\n",
       "      <td>10</td>\n",
       "      <td>0.03</td>\n",
       "      <td>0.03</td>\n",
       "      <td>surf</td>\n",
       "    </tr>\n",
       "    <tr>\n",
       "      <th>1</th>\n",
       "      <td>1000</td>\n",
       "      <td>30720</td>\n",
       "      <td>3000</td>\n",
       "      <td>70</td>\n",
       "      <td>7</td>\n",
       "      <td>0.01</td>\n",
       "      <td>0.01</td>\n",
       "      <td>ultimate</td>\n",
       "    </tr>\n",
       "  </tbody>\n",
       "</table>\n",
       "</div>"
      ],
      "text/plain": [
       "   messages_included  mb_per_month_included  minutes_included  \\\n",
       "0                 50                  15360               500   \n",
       "1               1000                  30720              3000   \n",
       "\n",
       "   usd_monthly_pay  usd_per_gb  usd_per_message  usd_per_minute plan_name  \n",
       "0               20          10             0.03            0.03      surf  \n",
       "1               70           7             0.01            0.01  ultimate  "
      ]
     },
     "metadata": {},
     "output_type": "display_data"
    },
    {
     "data": {
      "text/html": [
       "<div>\n",
       "<style scoped>\n",
       "    .dataframe tbody tr th:only-of-type {\n",
       "        vertical-align: middle;\n",
       "    }\n",
       "\n",
       "    .dataframe tbody tr th {\n",
       "        vertical-align: top;\n",
       "    }\n",
       "\n",
       "    .dataframe thead th {\n",
       "        text-align: right;\n",
       "    }\n",
       "</style>\n",
       "<table border=\"1\" class=\"dataframe\">\n",
       "  <thead>\n",
       "    <tr style=\"text-align: right;\">\n",
       "      <th></th>\n",
       "      <th>user_id</th>\n",
       "      <th>first_name</th>\n",
       "      <th>last_name</th>\n",
       "      <th>age</th>\n",
       "      <th>city</th>\n",
       "      <th>reg_date</th>\n",
       "      <th>plan</th>\n",
       "      <th>churn_date</th>\n",
       "    </tr>\n",
       "  </thead>\n",
       "  <tbody>\n",
       "    <tr>\n",
       "      <th>0</th>\n",
       "      <td>1000</td>\n",
       "      <td>Anamaria</td>\n",
       "      <td>Bauer</td>\n",
       "      <td>45</td>\n",
       "      <td>Atlanta-Sandy Springs-Roswell, GA MSA</td>\n",
       "      <td>2018-12-24</td>\n",
       "      <td>ultimate</td>\n",
       "      <td>NaN</td>\n",
       "    </tr>\n",
       "    <tr>\n",
       "      <th>1</th>\n",
       "      <td>1001</td>\n",
       "      <td>Mickey</td>\n",
       "      <td>Wilkerson</td>\n",
       "      <td>28</td>\n",
       "      <td>Seattle-Tacoma-Bellevue, WA MSA</td>\n",
       "      <td>2018-08-13</td>\n",
       "      <td>surf</td>\n",
       "      <td>NaN</td>\n",
       "    </tr>\n",
       "    <tr>\n",
       "      <th>2</th>\n",
       "      <td>1002</td>\n",
       "      <td>Carlee</td>\n",
       "      <td>Hoffman</td>\n",
       "      <td>36</td>\n",
       "      <td>Las Vegas-Henderson-Paradise, NV MSA</td>\n",
       "      <td>2018-10-21</td>\n",
       "      <td>surf</td>\n",
       "      <td>NaN</td>\n",
       "    </tr>\n",
       "    <tr>\n",
       "      <th>3</th>\n",
       "      <td>1003</td>\n",
       "      <td>Reynaldo</td>\n",
       "      <td>Jenkins</td>\n",
       "      <td>52</td>\n",
       "      <td>Tulsa, OK MSA</td>\n",
       "      <td>2018-01-28</td>\n",
       "      <td>surf</td>\n",
       "      <td>NaN</td>\n",
       "    </tr>\n",
       "    <tr>\n",
       "      <th>4</th>\n",
       "      <td>1004</td>\n",
       "      <td>Leonila</td>\n",
       "      <td>Thompson</td>\n",
       "      <td>40</td>\n",
       "      <td>Seattle-Tacoma-Bellevue, WA MSA</td>\n",
       "      <td>2018-05-23</td>\n",
       "      <td>surf</td>\n",
       "      <td>NaN</td>\n",
       "    </tr>\n",
       "    <tr>\n",
       "      <th>...</th>\n",
       "      <td>...</td>\n",
       "      <td>...</td>\n",
       "      <td>...</td>\n",
       "      <td>...</td>\n",
       "      <td>...</td>\n",
       "      <td>...</td>\n",
       "      <td>...</td>\n",
       "      <td>...</td>\n",
       "    </tr>\n",
       "    <tr>\n",
       "      <th>495</th>\n",
       "      <td>1495</td>\n",
       "      <td>Fidel</td>\n",
       "      <td>Sharpe</td>\n",
       "      <td>67</td>\n",
       "      <td>New York-Newark-Jersey City, NY-NJ-PA MSA</td>\n",
       "      <td>2018-09-04</td>\n",
       "      <td>surf</td>\n",
       "      <td>NaN</td>\n",
       "    </tr>\n",
       "    <tr>\n",
       "      <th>496</th>\n",
       "      <td>1496</td>\n",
       "      <td>Ariel</td>\n",
       "      <td>Shepherd</td>\n",
       "      <td>49</td>\n",
       "      <td>New Orleans-Metairie, LA MSA</td>\n",
       "      <td>2018-02-20</td>\n",
       "      <td>surf</td>\n",
       "      <td>NaN</td>\n",
       "    </tr>\n",
       "    <tr>\n",
       "      <th>497</th>\n",
       "      <td>1497</td>\n",
       "      <td>Donte</td>\n",
       "      <td>Barrera</td>\n",
       "      <td>49</td>\n",
       "      <td>Los Angeles-Long Beach-Anaheim, CA MSA</td>\n",
       "      <td>2018-12-10</td>\n",
       "      <td>ultimate</td>\n",
       "      <td>NaN</td>\n",
       "    </tr>\n",
       "    <tr>\n",
       "      <th>498</th>\n",
       "      <td>1498</td>\n",
       "      <td>Scot</td>\n",
       "      <td>Williamson</td>\n",
       "      <td>51</td>\n",
       "      <td>New York-Newark-Jersey City, NY-NJ-PA MSA</td>\n",
       "      <td>2018-02-04</td>\n",
       "      <td>surf</td>\n",
       "      <td>NaN</td>\n",
       "    </tr>\n",
       "    <tr>\n",
       "      <th>499</th>\n",
       "      <td>1499</td>\n",
       "      <td>Shena</td>\n",
       "      <td>Dickson</td>\n",
       "      <td>37</td>\n",
       "      <td>Orlando-Kissimmee-Sanford, FL MSA</td>\n",
       "      <td>2018-05-06</td>\n",
       "      <td>surf</td>\n",
       "      <td>NaN</td>\n",
       "    </tr>\n",
       "  </tbody>\n",
       "</table>\n",
       "<p>500 rows × 8 columns</p>\n",
       "</div>"
      ],
      "text/plain": [
       "     user_id first_name   last_name  age  \\\n",
       "0       1000   Anamaria       Bauer   45   \n",
       "1       1001     Mickey   Wilkerson   28   \n",
       "2       1002     Carlee     Hoffman   36   \n",
       "3       1003   Reynaldo     Jenkins   52   \n",
       "4       1004    Leonila    Thompson   40   \n",
       "..       ...        ...         ...  ...   \n",
       "495     1495      Fidel      Sharpe   67   \n",
       "496     1496      Ariel    Shepherd   49   \n",
       "497     1497      Donte     Barrera   49   \n",
       "498     1498       Scot  Williamson   51   \n",
       "499     1499      Shena     Dickson   37   \n",
       "\n",
       "                                          city    reg_date      plan  \\\n",
       "0        Atlanta-Sandy Springs-Roswell, GA MSA  2018-12-24  ultimate   \n",
       "1              Seattle-Tacoma-Bellevue, WA MSA  2018-08-13      surf   \n",
       "2         Las Vegas-Henderson-Paradise, NV MSA  2018-10-21      surf   \n",
       "3                                Tulsa, OK MSA  2018-01-28      surf   \n",
       "4              Seattle-Tacoma-Bellevue, WA MSA  2018-05-23      surf   \n",
       "..                                         ...         ...       ...   \n",
       "495  New York-Newark-Jersey City, NY-NJ-PA MSA  2018-09-04      surf   \n",
       "496               New Orleans-Metairie, LA MSA  2018-02-20      surf   \n",
       "497     Los Angeles-Long Beach-Anaheim, CA MSA  2018-12-10  ultimate   \n",
       "498  New York-Newark-Jersey City, NY-NJ-PA MSA  2018-02-04      surf   \n",
       "499          Orlando-Kissimmee-Sanford, FL MSA  2018-05-06      surf   \n",
       "\n",
       "    churn_date  \n",
       "0          NaN  \n",
       "1          NaN  \n",
       "2          NaN  \n",
       "3          NaN  \n",
       "4          NaN  \n",
       "..         ...  \n",
       "495        NaN  \n",
       "496        NaN  \n",
       "497        NaN  \n",
       "498        NaN  \n",
       "499        NaN  \n",
       "\n",
       "[500 rows x 8 columns]"
      ]
     },
     "metadata": {},
     "output_type": "display_data"
    }
   ],
   "source": [
    "display(calls)\n",
    "display(internet)\n",
    "display(messages)\n",
    "display(plans)\n",
    "display(users)"
   ]
  },
  {
   "cell_type": "markdown",
   "metadata": {},
   "source": [
    "## Plans"
   ]
  },
  {
   "cell_type": "code",
   "execution_count": 4,
   "metadata": {},
   "outputs": [
    {
     "name": "stdout",
     "output_type": "stream",
     "text": [
      "<class 'pandas.core.frame.DataFrame'>\n",
      "RangeIndex: 2 entries, 0 to 1\n",
      "Data columns (total 8 columns):\n",
      " #   Column                 Non-Null Count  Dtype  \n",
      "---  ------                 --------------  -----  \n",
      " 0   messages_included      2 non-null      int64  \n",
      " 1   mb_per_month_included  2 non-null      int64  \n",
      " 2   minutes_included       2 non-null      int64  \n",
      " 3   usd_monthly_pay        2 non-null      int64  \n",
      " 4   usd_per_gb             2 non-null      int64  \n",
      " 5   usd_per_message        2 non-null      float64\n",
      " 6   usd_per_minute         2 non-null      float64\n",
      " 7   plan_name              2 non-null      object \n",
      "dtypes: float64(2), int64(5), object(1)\n",
      "memory usage: 256.0+ bytes\n"
     ]
    }
   ],
   "source": [
    "# Print the general/summary information about the plans' DataFrame\n",
    "plans.info()"
   ]
  },
  {
   "cell_type": "code",
   "execution_count": 5,
   "metadata": {},
   "outputs": [
    {
     "data": {
      "text/html": [
       "<div>\n",
       "<style scoped>\n",
       "    .dataframe tbody tr th:only-of-type {\n",
       "        vertical-align: middle;\n",
       "    }\n",
       "\n",
       "    .dataframe tbody tr th {\n",
       "        vertical-align: top;\n",
       "    }\n",
       "\n",
       "    .dataframe thead th {\n",
       "        text-align: right;\n",
       "    }\n",
       "</style>\n",
       "<table border=\"1\" class=\"dataframe\">\n",
       "  <thead>\n",
       "    <tr style=\"text-align: right;\">\n",
       "      <th></th>\n",
       "      <th>messages_included</th>\n",
       "      <th>mb_per_month_included</th>\n",
       "      <th>minutes_included</th>\n",
       "      <th>usd_monthly_pay</th>\n",
       "      <th>usd_per_gb</th>\n",
       "      <th>usd_per_message</th>\n",
       "      <th>usd_per_minute</th>\n",
       "      <th>plan_name</th>\n",
       "    </tr>\n",
       "  </thead>\n",
       "  <tbody>\n",
       "    <tr>\n",
       "      <th>0</th>\n",
       "      <td>50</td>\n",
       "      <td>15360</td>\n",
       "      <td>500</td>\n",
       "      <td>20</td>\n",
       "      <td>10</td>\n",
       "      <td>0.03</td>\n",
       "      <td>0.03</td>\n",
       "      <td>surf</td>\n",
       "    </tr>\n",
       "    <tr>\n",
       "      <th>1</th>\n",
       "      <td>1000</td>\n",
       "      <td>30720</td>\n",
       "      <td>3000</td>\n",
       "      <td>70</td>\n",
       "      <td>7</td>\n",
       "      <td>0.01</td>\n",
       "      <td>0.01</td>\n",
       "      <td>ultimate</td>\n",
       "    </tr>\n",
       "  </tbody>\n",
       "</table>\n",
       "</div>"
      ],
      "text/plain": [
       "   messages_included  mb_per_month_included  minutes_included  \\\n",
       "0                 50                  15360               500   \n",
       "1               1000                  30720              3000   \n",
       "\n",
       "   usd_monthly_pay  usd_per_gb  usd_per_message  usd_per_minute plan_name  \n",
       "0               20          10             0.03            0.03      surf  \n",
       "1               70           7             0.01            0.01  ultimate  "
      ]
     },
     "metadata": {},
     "output_type": "display_data"
    }
   ],
   "source": [
    "# Print a sample of data for plans\n",
    "display(plans)"
   ]
  },
  {
   "cell_type": "markdown",
   "metadata": {},
   "source": [
    "Since plans is such a small dataframe, I just used the display method to showcase it."
   ]
  },
  {
   "cell_type": "markdown",
   "metadata": {},
   "source": [
    " The zero's in the calls and internet dataframes can effect the calculations, depending on the context. If there are too many zero's in the dataframes, it can skew the results and cause misinterpretations."
   ]
  },
  {
   "cell_type": "markdown",
   "metadata": {},
   "source": [
    "No issues with plans dataset. Everything looks correct."
   ]
  },
  {
   "cell_type": "markdown",
   "metadata": {},
   "source": [
    "## Users"
   ]
  },
  {
   "cell_type": "code",
   "execution_count": 6,
   "metadata": {},
   "outputs": [
    {
     "name": "stdout",
     "output_type": "stream",
     "text": [
      "<class 'pandas.core.frame.DataFrame'>\n",
      "RangeIndex: 500 entries, 0 to 499\n",
      "Data columns (total 8 columns):\n",
      " #   Column      Non-Null Count  Dtype \n",
      "---  ------      --------------  ----- \n",
      " 0   user_id     500 non-null    int64 \n",
      " 1   first_name  500 non-null    object\n",
      " 2   last_name   500 non-null    object\n",
      " 3   age         500 non-null    int64 \n",
      " 4   city        500 non-null    object\n",
      " 5   reg_date    500 non-null    object\n",
      " 6   plan        500 non-null    object\n",
      " 7   churn_date  34 non-null     object\n",
      "dtypes: int64(2), object(6)\n",
      "memory usage: 31.4+ KB\n"
     ]
    }
   ],
   "source": [
    "# Print the general/summary information about the users' DataFrame\n",
    "users.info()\n"
   ]
  },
  {
   "cell_type": "code",
   "execution_count": 7,
   "metadata": {},
   "outputs": [
    {
     "data": {
      "text/html": [
       "<div>\n",
       "<style scoped>\n",
       "    .dataframe tbody tr th:only-of-type {\n",
       "        vertical-align: middle;\n",
       "    }\n",
       "\n",
       "    .dataframe tbody tr th {\n",
       "        vertical-align: top;\n",
       "    }\n",
       "\n",
       "    .dataframe thead th {\n",
       "        text-align: right;\n",
       "    }\n",
       "</style>\n",
       "<table border=\"1\" class=\"dataframe\">\n",
       "  <thead>\n",
       "    <tr style=\"text-align: right;\">\n",
       "      <th></th>\n",
       "      <th>user_id</th>\n",
       "      <th>first_name</th>\n",
       "      <th>last_name</th>\n",
       "      <th>age</th>\n",
       "      <th>city</th>\n",
       "      <th>reg_date</th>\n",
       "      <th>plan</th>\n",
       "      <th>churn_date</th>\n",
       "    </tr>\n",
       "  </thead>\n",
       "  <tbody>\n",
       "    <tr>\n",
       "      <th>128</th>\n",
       "      <td>1128</td>\n",
       "      <td>Lucius</td>\n",
       "      <td>Fernandez</td>\n",
       "      <td>41</td>\n",
       "      <td>Knoxville, TN MSA</td>\n",
       "      <td>2018-01-25</td>\n",
       "      <td>ultimate</td>\n",
       "      <td>NaN</td>\n",
       "    </tr>\n",
       "    <tr>\n",
       "      <th>444</th>\n",
       "      <td>1444</td>\n",
       "      <td>Glinda</td>\n",
       "      <td>Dickerson</td>\n",
       "      <td>70</td>\n",
       "      <td>New Haven-Milford, CT MSA</td>\n",
       "      <td>2018-06-20</td>\n",
       "      <td>surf</td>\n",
       "      <td>NaN</td>\n",
       "    </tr>\n",
       "    <tr>\n",
       "      <th>38</th>\n",
       "      <td>1038</td>\n",
       "      <td>Olympia</td>\n",
       "      <td>Velazquez</td>\n",
       "      <td>32</td>\n",
       "      <td>Nashville-Davidson–Murfreesboro–Franklin, TN MSA</td>\n",
       "      <td>2018-06-25</td>\n",
       "      <td>ultimate</td>\n",
       "      <td>NaN</td>\n",
       "    </tr>\n",
       "    <tr>\n",
       "      <th>39</th>\n",
       "      <td>1039</td>\n",
       "      <td>Flo</td>\n",
       "      <td>Hicks</td>\n",
       "      <td>56</td>\n",
       "      <td>Columbus, OH MSA</td>\n",
       "      <td>2018-05-30</td>\n",
       "      <td>ultimate</td>\n",
       "      <td>NaN</td>\n",
       "    </tr>\n",
       "    <tr>\n",
       "      <th>151</th>\n",
       "      <td>1151</td>\n",
       "      <td>Ralph</td>\n",
       "      <td>Monroe</td>\n",
       "      <td>21</td>\n",
       "      <td>New York-Newark-Jersey City, NY-NJ-PA MSA</td>\n",
       "      <td>2018-03-20</td>\n",
       "      <td>surf</td>\n",
       "      <td>NaN</td>\n",
       "    </tr>\n",
       "    <tr>\n",
       "      <th>2</th>\n",
       "      <td>1002</td>\n",
       "      <td>Carlee</td>\n",
       "      <td>Hoffman</td>\n",
       "      <td>36</td>\n",
       "      <td>Las Vegas-Henderson-Paradise, NV MSA</td>\n",
       "      <td>2018-10-21</td>\n",
       "      <td>surf</td>\n",
       "      <td>NaN</td>\n",
       "    </tr>\n",
       "    <tr>\n",
       "      <th>72</th>\n",
       "      <td>1072</td>\n",
       "      <td>Seymour</td>\n",
       "      <td>Spence</td>\n",
       "      <td>66</td>\n",
       "      <td>Dallas-Fort Worth-Arlington, TX MSA</td>\n",
       "      <td>2018-07-12</td>\n",
       "      <td>surf</td>\n",
       "      <td>NaN</td>\n",
       "    </tr>\n",
       "    <tr>\n",
       "      <th>408</th>\n",
       "      <td>1408</td>\n",
       "      <td>Alaine</td>\n",
       "      <td>Robertson</td>\n",
       "      <td>40</td>\n",
       "      <td>Baltimore-Columbia-Towson, MD MSA</td>\n",
       "      <td>2018-01-11</td>\n",
       "      <td>surf</td>\n",
       "      <td>NaN</td>\n",
       "    </tr>\n",
       "    <tr>\n",
       "      <th>409</th>\n",
       "      <td>1409</td>\n",
       "      <td>Elvis</td>\n",
       "      <td>Vargas</td>\n",
       "      <td>38</td>\n",
       "      <td>Charlotte-Concord-Gastonia, NC-SC MSA</td>\n",
       "      <td>2018-10-04</td>\n",
       "      <td>ultimate</td>\n",
       "      <td>NaN</td>\n",
       "    </tr>\n",
       "    <tr>\n",
       "      <th>125</th>\n",
       "      <td>1125</td>\n",
       "      <td>Assunta</td>\n",
       "      <td>Carver</td>\n",
       "      <td>39</td>\n",
       "      <td>North Port-Sarasota-Bradenton, FL MSA</td>\n",
       "      <td>2018-08-16</td>\n",
       "      <td>surf</td>\n",
       "      <td>NaN</td>\n",
       "    </tr>\n",
       "  </tbody>\n",
       "</table>\n",
       "</div>"
      ],
      "text/plain": [
       "     user_id first_name  last_name  age  \\\n",
       "128     1128     Lucius  Fernandez   41   \n",
       "444     1444     Glinda  Dickerson   70   \n",
       "38      1038    Olympia  Velazquez   32   \n",
       "39      1039        Flo      Hicks   56   \n",
       "151     1151      Ralph     Monroe   21   \n",
       "2       1002     Carlee    Hoffman   36   \n",
       "72      1072    Seymour     Spence   66   \n",
       "408     1408     Alaine  Robertson   40   \n",
       "409     1409      Elvis     Vargas   38   \n",
       "125     1125    Assunta     Carver   39   \n",
       "\n",
       "                                                 city    reg_date      plan  \\\n",
       "128                                 Knoxville, TN MSA  2018-01-25  ultimate   \n",
       "444                         New Haven-Milford, CT MSA  2018-06-20      surf   \n",
       "38   Nashville-Davidson–Murfreesboro–Franklin, TN MSA  2018-06-25  ultimate   \n",
       "39                                   Columbus, OH MSA  2018-05-30  ultimate   \n",
       "151         New York-Newark-Jersey City, NY-NJ-PA MSA  2018-03-20      surf   \n",
       "2                Las Vegas-Henderson-Paradise, NV MSA  2018-10-21      surf   \n",
       "72                Dallas-Fort Worth-Arlington, TX MSA  2018-07-12      surf   \n",
       "408                 Baltimore-Columbia-Towson, MD MSA  2018-01-11      surf   \n",
       "409             Charlotte-Concord-Gastonia, NC-SC MSA  2018-10-04  ultimate   \n",
       "125             North Port-Sarasota-Bradenton, FL MSA  2018-08-16      surf   \n",
       "\n",
       "    churn_date  \n",
       "128        NaN  \n",
       "444        NaN  \n",
       "38         NaN  \n",
       "39         NaN  \n",
       "151        NaN  \n",
       "2          NaN  \n",
       "72         NaN  \n",
       "408        NaN  \n",
       "409        NaN  \n",
       "125        NaN  "
      ]
     },
     "metadata": {},
     "output_type": "display_data"
    }
   ],
   "source": [
    "# Print a sample of data for users\n",
    "display(users.sample(10))\n",
    "\n",
    "#display(user_plans)"
   ]
  },
  {
   "cell_type": "markdown",
   "metadata": {},
   "source": [
    "Each column is the appropriate data type. There are only 34 non-null pieces of data in the \"churn_date\" which means only 34 customers had stopped using the plan. All other entries mean during the time this data was sampled, they were actively using the plan."
   ]
  },
  {
   "cell_type": "markdown",
   "metadata": {},
   "source": [
    "## Calls"
   ]
  },
  {
   "cell_type": "code",
   "execution_count": 8,
   "metadata": {},
   "outputs": [
    {
     "name": "stdout",
     "output_type": "stream",
     "text": [
      "<class 'pandas.core.frame.DataFrame'>\n",
      "RangeIndex: 137735 entries, 0 to 137734\n",
      "Data columns (total 4 columns):\n",
      " #   Column     Non-Null Count   Dtype  \n",
      "---  ------     --------------   -----  \n",
      " 0   id         137735 non-null  object \n",
      " 1   user_id    137735 non-null  int64  \n",
      " 2   call_date  137735 non-null  object \n",
      " 3   duration   137735 non-null  float64\n",
      "dtypes: float64(1), int64(1), object(2)\n",
      "memory usage: 4.2+ MB\n"
     ]
    }
   ],
   "source": [
    "# Print the general/summary information about the calls' DataFrame\n",
    "calls.info()\n"
   ]
  },
  {
   "cell_type": "code",
   "execution_count": 9,
   "metadata": {},
   "outputs": [
    {
     "data": {
      "text/html": [
       "<div>\n",
       "<style scoped>\n",
       "    .dataframe tbody tr th:only-of-type {\n",
       "        vertical-align: middle;\n",
       "    }\n",
       "\n",
       "    .dataframe tbody tr th {\n",
       "        vertical-align: top;\n",
       "    }\n",
       "\n",
       "    .dataframe thead th {\n",
       "        text-align: right;\n",
       "    }\n",
       "</style>\n",
       "<table border=\"1\" class=\"dataframe\">\n",
       "  <thead>\n",
       "    <tr style=\"text-align: right;\">\n",
       "      <th></th>\n",
       "      <th>id</th>\n",
       "      <th>user_id</th>\n",
       "      <th>call_date</th>\n",
       "      <th>duration</th>\n",
       "    </tr>\n",
       "  </thead>\n",
       "  <tbody>\n",
       "    <tr>\n",
       "      <th>0</th>\n",
       "      <td>1000_93</td>\n",
       "      <td>1000</td>\n",
       "      <td>2018-12-27</td>\n",
       "      <td>8.52</td>\n",
       "    </tr>\n",
       "    <tr>\n",
       "      <th>1</th>\n",
       "      <td>1000_145</td>\n",
       "      <td>1000</td>\n",
       "      <td>2018-12-27</td>\n",
       "      <td>13.66</td>\n",
       "    </tr>\n",
       "    <tr>\n",
       "      <th>2</th>\n",
       "      <td>1000_247</td>\n",
       "      <td>1000</td>\n",
       "      <td>2018-12-27</td>\n",
       "      <td>14.48</td>\n",
       "    </tr>\n",
       "    <tr>\n",
       "      <th>3</th>\n",
       "      <td>1000_309</td>\n",
       "      <td>1000</td>\n",
       "      <td>2018-12-28</td>\n",
       "      <td>5.76</td>\n",
       "    </tr>\n",
       "    <tr>\n",
       "      <th>4</th>\n",
       "      <td>1000_380</td>\n",
       "      <td>1000</td>\n",
       "      <td>2018-12-30</td>\n",
       "      <td>4.22</td>\n",
       "    </tr>\n",
       "  </tbody>\n",
       "</table>\n",
       "</div>"
      ],
      "text/plain": [
       "         id  user_id   call_date  duration\n",
       "0   1000_93     1000  2018-12-27      8.52\n",
       "1  1000_145     1000  2018-12-27     13.66\n",
       "2  1000_247     1000  2018-12-27     14.48\n",
       "3  1000_309     1000  2018-12-28      5.76\n",
       "4  1000_380     1000  2018-12-30      4.22"
      ]
     },
     "metadata": {},
     "output_type": "display_data"
    },
    {
     "data": {
      "text/html": [
       "<div>\n",
       "<style scoped>\n",
       "    .dataframe tbody tr th:only-of-type {\n",
       "        vertical-align: middle;\n",
       "    }\n",
       "\n",
       "    .dataframe tbody tr th {\n",
       "        vertical-align: top;\n",
       "    }\n",
       "\n",
       "    .dataframe thead th {\n",
       "        text-align: right;\n",
       "    }\n",
       "</style>\n",
       "<table border=\"1\" class=\"dataframe\">\n",
       "  <thead>\n",
       "    <tr style=\"text-align: right;\">\n",
       "      <th></th>\n",
       "      <th>id</th>\n",
       "      <th>user_id</th>\n",
       "      <th>call_date</th>\n",
       "      <th>duration</th>\n",
       "    </tr>\n",
       "  </thead>\n",
       "  <tbody>\n",
       "    <tr>\n",
       "      <th>0</th>\n",
       "      <td>1000_93</td>\n",
       "      <td>1000</td>\n",
       "      <td>2018-12-27</td>\n",
       "      <td>9</td>\n",
       "    </tr>\n",
       "    <tr>\n",
       "      <th>1</th>\n",
       "      <td>1000_145</td>\n",
       "      <td>1000</td>\n",
       "      <td>2018-12-27</td>\n",
       "      <td>14</td>\n",
       "    </tr>\n",
       "    <tr>\n",
       "      <th>2</th>\n",
       "      <td>1000_247</td>\n",
       "      <td>1000</td>\n",
       "      <td>2018-12-27</td>\n",
       "      <td>15</td>\n",
       "    </tr>\n",
       "    <tr>\n",
       "      <th>3</th>\n",
       "      <td>1000_309</td>\n",
       "      <td>1000</td>\n",
       "      <td>2018-12-28</td>\n",
       "      <td>6</td>\n",
       "    </tr>\n",
       "    <tr>\n",
       "      <th>4</th>\n",
       "      <td>1000_380</td>\n",
       "      <td>1000</td>\n",
       "      <td>2018-12-30</td>\n",
       "      <td>5</td>\n",
       "    </tr>\n",
       "  </tbody>\n",
       "</table>\n",
       "</div>"
      ],
      "text/plain": [
       "         id  user_id   call_date  duration\n",
       "0   1000_93     1000  2018-12-27         9\n",
       "1  1000_145     1000  2018-12-27        14\n",
       "2  1000_247     1000  2018-12-27        15\n",
       "3  1000_309     1000  2018-12-28         6\n",
       "4  1000_380     1000  2018-12-30         5"
      ]
     },
     "metadata": {},
     "output_type": "display_data"
    }
   ],
   "source": [
    "# Print a sample of data for calls\n",
    "display(calls.head())\n",
    "calls['duration'] = np.ceil(calls['duration']).astype(int)\n",
    "display(calls.head())"
   ]
  },
  {
   "cell_type": "markdown",
   "metadata": {},
   "source": [
    "No initial problems with columns from the sample provided. \n",
    "Calls can be rounded up and converted to \"int\" datatypes if necessary. Using np.ceil() can round up the 'duration' column. I displayed the before and after of the 'duration' column after using np.ceil()."
   ]
  },
  {
   "cell_type": "markdown",
   "metadata": {},
   "source": [
    "### Enrich data"
   ]
  },
  {
   "cell_type": "markdown",
   "metadata": {},
   "source": [
    "Creating a column for the month to later calculate how much is owed for the monthly plans."
   ]
  },
  {
   "cell_type": "code",
   "execution_count": 10,
   "metadata": {},
   "outputs": [],
   "source": [
    "calls['call_date'] = pd.to_datetime(calls['call_date'])\n",
    "calls['month'] = calls['call_date'].dt.month"
   ]
  },
  {
   "cell_type": "markdown",
   "metadata": {},
   "source": [
    "## Messages"
   ]
  },
  {
   "cell_type": "code",
   "execution_count": 11,
   "metadata": {},
   "outputs": [
    {
     "name": "stdout",
     "output_type": "stream",
     "text": [
      "<class 'pandas.core.frame.DataFrame'>\n",
      "RangeIndex: 76051 entries, 0 to 76050\n",
      "Data columns (total 3 columns):\n",
      " #   Column        Non-Null Count  Dtype \n",
      "---  ------        --------------  ----- \n",
      " 0   id            76051 non-null  object\n",
      " 1   user_id       76051 non-null  int64 \n",
      " 2   message_date  76051 non-null  object\n",
      "dtypes: int64(1), object(2)\n",
      "memory usage: 1.7+ MB\n"
     ]
    }
   ],
   "source": [
    "# Print the general/summary information about the messages' DataFrame\n",
    "messages.info()\n"
   ]
  },
  {
   "cell_type": "code",
   "execution_count": 12,
   "metadata": {},
   "outputs": [
    {
     "data": {
      "text/html": [
       "<div>\n",
       "<style scoped>\n",
       "    .dataframe tbody tr th:only-of-type {\n",
       "        vertical-align: middle;\n",
       "    }\n",
       "\n",
       "    .dataframe tbody tr th {\n",
       "        vertical-align: top;\n",
       "    }\n",
       "\n",
       "    .dataframe thead th {\n",
       "        text-align: right;\n",
       "    }\n",
       "</style>\n",
       "<table border=\"1\" class=\"dataframe\">\n",
       "  <thead>\n",
       "    <tr style=\"text-align: right;\">\n",
       "      <th></th>\n",
       "      <th>id</th>\n",
       "      <th>user_id</th>\n",
       "      <th>message_date</th>\n",
       "    </tr>\n",
       "  </thead>\n",
       "  <tbody>\n",
       "    <tr>\n",
       "      <th>47441</th>\n",
       "      <td>1324_155</td>\n",
       "      <td>1324</td>\n",
       "      <td>2018-09-30</td>\n",
       "    </tr>\n",
       "    <tr>\n",
       "      <th>75351</th>\n",
       "      <td>1491_159</td>\n",
       "      <td>1491</td>\n",
       "      <td>2018-05-07</td>\n",
       "    </tr>\n",
       "    <tr>\n",
       "      <th>2452</th>\n",
       "      <td>1028_366</td>\n",
       "      <td>1028</td>\n",
       "      <td>2018-11-22</td>\n",
       "    </tr>\n",
       "    <tr>\n",
       "      <th>5108</th>\n",
       "      <td>1046_170</td>\n",
       "      <td>1046</td>\n",
       "      <td>2018-08-23</td>\n",
       "    </tr>\n",
       "    <tr>\n",
       "      <th>59277</th>\n",
       "      <td>1374_451</td>\n",
       "      <td>1374</td>\n",
       "      <td>2018-08-07</td>\n",
       "    </tr>\n",
       "    <tr>\n",
       "      <th>23331</th>\n",
       "      <td>1141_144</td>\n",
       "      <td>1141</td>\n",
       "      <td>2018-10-19</td>\n",
       "    </tr>\n",
       "    <tr>\n",
       "      <th>43274</th>\n",
       "      <td>1285_115</td>\n",
       "      <td>1285</td>\n",
       "      <td>2018-10-19</td>\n",
       "    </tr>\n",
       "    <tr>\n",
       "      <th>56378</th>\n",
       "      <td>1356_49</td>\n",
       "      <td>1356</td>\n",
       "      <td>2018-09-19</td>\n",
       "    </tr>\n",
       "    <tr>\n",
       "      <th>44442</th>\n",
       "      <td>1295_98</td>\n",
       "      <td>1295</td>\n",
       "      <td>2018-08-24</td>\n",
       "    </tr>\n",
       "    <tr>\n",
       "      <th>75575</th>\n",
       "      <td>1491_483</td>\n",
       "      <td>1491</td>\n",
       "      <td>2018-07-14</td>\n",
       "    </tr>\n",
       "  </tbody>\n",
       "</table>\n",
       "</div>"
      ],
      "text/plain": [
       "             id  user_id message_date\n",
       "47441  1324_155     1324   2018-09-30\n",
       "75351  1491_159     1491   2018-05-07\n",
       "2452   1028_366     1028   2018-11-22\n",
       "5108   1046_170     1046   2018-08-23\n",
       "59277  1374_451     1374   2018-08-07\n",
       "23331  1141_144     1141   2018-10-19\n",
       "43274  1285_115     1285   2018-10-19\n",
       "56378   1356_49     1356   2018-09-19\n",
       "44442   1295_98     1295   2018-08-24\n",
       "75575  1491_483     1491   2018-07-14"
      ]
     },
     "execution_count": 12,
     "metadata": {},
     "output_type": "execute_result"
    }
   ],
   "source": [
    "# Print a sample of data for messages\n",
    "messages.sample(10)\n"
   ]
  },
  {
   "cell_type": "markdown",
   "metadata": {},
   "source": [
    "There's 3 columns: 'id' showing the unique text id, 'user_id' showing the id of the user, and 'message_date' showing when the text was sent. No obvious erros or missing data."
   ]
  },
  {
   "cell_type": "markdown",
   "metadata": {},
   "source": [
    "### Enrich data"
   ]
  },
  {
   "cell_type": "markdown",
   "metadata": {},
   "source": [
    "Creating a column for the month to later calculate how many messages were sent in each month."
   ]
  },
  {
   "cell_type": "code",
   "execution_count": 13,
   "metadata": {},
   "outputs": [],
   "source": [
    "messages['message_date'] = pd.to_datetime(messages['message_date'])\n",
    "messages['month'] = messages['message_date'].dt.month"
   ]
  },
  {
   "cell_type": "markdown",
   "metadata": {},
   "source": [
    "## Internet"
   ]
  },
  {
   "cell_type": "code",
   "execution_count": 14,
   "metadata": {},
   "outputs": [
    {
     "name": "stdout",
     "output_type": "stream",
     "text": [
      "<class 'pandas.core.frame.DataFrame'>\n",
      "RangeIndex: 104825 entries, 0 to 104824\n",
      "Data columns (total 4 columns):\n",
      " #   Column        Non-Null Count   Dtype  \n",
      "---  ------        --------------   -----  \n",
      " 0   id            104825 non-null  object \n",
      " 1   user_id       104825 non-null  int64  \n",
      " 2   session_date  104825 non-null  object \n",
      " 3   mb_used       104825 non-null  float64\n",
      "dtypes: float64(1), int64(1), object(2)\n",
      "memory usage: 3.2+ MB\n"
     ]
    }
   ],
   "source": [
    "# Print the general/summary information about the internet DataFrame\n",
    "internet.info()\n"
   ]
  },
  {
   "cell_type": "code",
   "execution_count": 15,
   "metadata": {},
   "outputs": [
    {
     "data": {
      "text/html": [
       "<div>\n",
       "<style scoped>\n",
       "    .dataframe tbody tr th:only-of-type {\n",
       "        vertical-align: middle;\n",
       "    }\n",
       "\n",
       "    .dataframe tbody tr th {\n",
       "        vertical-align: top;\n",
       "    }\n",
       "\n",
       "    .dataframe thead th {\n",
       "        text-align: right;\n",
       "    }\n",
       "</style>\n",
       "<table border=\"1\" class=\"dataframe\">\n",
       "  <thead>\n",
       "    <tr style=\"text-align: right;\">\n",
       "      <th></th>\n",
       "      <th>id</th>\n",
       "      <th>user_id</th>\n",
       "      <th>session_date</th>\n",
       "      <th>gb_used</th>\n",
       "    </tr>\n",
       "  </thead>\n",
       "  <tbody>\n",
       "    <tr>\n",
       "      <th>0</th>\n",
       "      <td>1000_13</td>\n",
       "      <td>1000</td>\n",
       "      <td>2018-12-29</td>\n",
       "      <td>89.86</td>\n",
       "    </tr>\n",
       "    <tr>\n",
       "      <th>1</th>\n",
       "      <td>1000_204</td>\n",
       "      <td>1000</td>\n",
       "      <td>2018-12-31</td>\n",
       "      <td>0.00</td>\n",
       "    </tr>\n",
       "    <tr>\n",
       "      <th>2</th>\n",
       "      <td>1000_379</td>\n",
       "      <td>1000</td>\n",
       "      <td>2018-12-28</td>\n",
       "      <td>660.40</td>\n",
       "    </tr>\n",
       "    <tr>\n",
       "      <th>3</th>\n",
       "      <td>1000_413</td>\n",
       "      <td>1000</td>\n",
       "      <td>2018-12-26</td>\n",
       "      <td>270.99</td>\n",
       "    </tr>\n",
       "    <tr>\n",
       "      <th>4</th>\n",
       "      <td>1000_442</td>\n",
       "      <td>1000</td>\n",
       "      <td>2018-12-27</td>\n",
       "      <td>880.22</td>\n",
       "    </tr>\n",
       "    <tr>\n",
       "      <th>5</th>\n",
       "      <td>1001_0</td>\n",
       "      <td>1001</td>\n",
       "      <td>2018-08-24</td>\n",
       "      <td>284.68</td>\n",
       "    </tr>\n",
       "    <tr>\n",
       "      <th>6</th>\n",
       "      <td>1001_3</td>\n",
       "      <td>1001</td>\n",
       "      <td>2018-12-09</td>\n",
       "      <td>656.04</td>\n",
       "    </tr>\n",
       "    <tr>\n",
       "      <th>7</th>\n",
       "      <td>1001_4</td>\n",
       "      <td>1001</td>\n",
       "      <td>2018-11-04</td>\n",
       "      <td>16.97</td>\n",
       "    </tr>\n",
       "    <tr>\n",
       "      <th>8</th>\n",
       "      <td>1001_10</td>\n",
       "      <td>1001</td>\n",
       "      <td>2018-11-27</td>\n",
       "      <td>135.18</td>\n",
       "    </tr>\n",
       "    <tr>\n",
       "      <th>9</th>\n",
       "      <td>1001_15</td>\n",
       "      <td>1001</td>\n",
       "      <td>2018-12-13</td>\n",
       "      <td>761.92</td>\n",
       "    </tr>\n",
       "    <tr>\n",
       "      <th>10</th>\n",
       "      <td>1001_16</td>\n",
       "      <td>1001</td>\n",
       "      <td>2018-10-28</td>\n",
       "      <td>501.53</td>\n",
       "    </tr>\n",
       "    <tr>\n",
       "      <th>11</th>\n",
       "      <td>1001_17</td>\n",
       "      <td>1001</td>\n",
       "      <td>2018-09-05</td>\n",
       "      <td>727.29</td>\n",
       "    </tr>\n",
       "    <tr>\n",
       "      <th>12</th>\n",
       "      <td>1001_24</td>\n",
       "      <td>1001</td>\n",
       "      <td>2018-09-05</td>\n",
       "      <td>622.03</td>\n",
       "    </tr>\n",
       "    <tr>\n",
       "      <th>13</th>\n",
       "      <td>1001_25</td>\n",
       "      <td>1001</td>\n",
       "      <td>2018-10-14</td>\n",
       "      <td>310.43</td>\n",
       "    </tr>\n",
       "    <tr>\n",
       "      <th>14</th>\n",
       "      <td>1001_26</td>\n",
       "      <td>1001</td>\n",
       "      <td>2018-09-17</td>\n",
       "      <td>0.00</td>\n",
       "    </tr>\n",
       "    <tr>\n",
       "      <th>15</th>\n",
       "      <td>1001_27</td>\n",
       "      <td>1001</td>\n",
       "      <td>2018-12-13</td>\n",
       "      <td>149.17</td>\n",
       "    </tr>\n",
       "    <tr>\n",
       "      <th>16</th>\n",
       "      <td>1001_28</td>\n",
       "      <td>1001</td>\n",
       "      <td>2018-10-17</td>\n",
       "      <td>0.00</td>\n",
       "    </tr>\n",
       "    <tr>\n",
       "      <th>17</th>\n",
       "      <td>1001_29</td>\n",
       "      <td>1001</td>\n",
       "      <td>2018-10-09</td>\n",
       "      <td>1067.99</td>\n",
       "    </tr>\n",
       "    <tr>\n",
       "      <th>18</th>\n",
       "      <td>1001_30</td>\n",
       "      <td>1001</td>\n",
       "      <td>2018-12-27</td>\n",
       "      <td>157.20</td>\n",
       "    </tr>\n",
       "    <tr>\n",
       "      <th>19</th>\n",
       "      <td>1001_33</td>\n",
       "      <td>1001</td>\n",
       "      <td>2018-09-27</td>\n",
       "      <td>236.40</td>\n",
       "    </tr>\n",
       "  </tbody>\n",
       "</table>\n",
       "</div>"
      ],
      "text/plain": [
       "          id  user_id session_date  gb_used\n",
       "0    1000_13     1000   2018-12-29    89.86\n",
       "1   1000_204     1000   2018-12-31     0.00\n",
       "2   1000_379     1000   2018-12-28   660.40\n",
       "3   1000_413     1000   2018-12-26   270.99\n",
       "4   1000_442     1000   2018-12-27   880.22\n",
       "5     1001_0     1001   2018-08-24   284.68\n",
       "6     1001_3     1001   2018-12-09   656.04\n",
       "7     1001_4     1001   2018-11-04    16.97\n",
       "8    1001_10     1001   2018-11-27   135.18\n",
       "9    1001_15     1001   2018-12-13   761.92\n",
       "10   1001_16     1001   2018-10-28   501.53\n",
       "11   1001_17     1001   2018-09-05   727.29\n",
       "12   1001_24     1001   2018-09-05   622.03\n",
       "13   1001_25     1001   2018-10-14   310.43\n",
       "14   1001_26     1001   2018-09-17     0.00\n",
       "15   1001_27     1001   2018-12-13   149.17\n",
       "16   1001_28     1001   2018-10-17     0.00\n",
       "17   1001_29     1001   2018-10-09  1067.99\n",
       "18   1001_30     1001   2018-12-27   157.20\n",
       "19   1001_33     1001   2018-09-27   236.40"
      ]
     },
     "execution_count": 15,
     "metadata": {},
     "output_type": "execute_result"
    }
   ],
   "source": [
    "# Print a sample of data for the internet traffic\n",
    "internet.rename(columns={'mb_used': 'gb_used'}, inplace=True)\n",
    "internet.head(20)\n"
   ]
  },
  {
   "cell_type": "markdown",
   "metadata": {},
   "source": [
    "Theres 4 columns: 'id' showing the unqiue session id, 'user_id' showing the user id, 'session_date' showing the web session day, and 'mb_used' showing the amount of data used in megabytes."
   ]
  },
  {
   "cell_type": "markdown",
   "metadata": {},
   "source": [
    "### Enrich data"
   ]
  },
  {
   "cell_type": "markdown",
   "metadata": {},
   "source": [
    "Creating a month column to determine how much data was used per month."
   ]
  },
  {
   "cell_type": "code",
   "execution_count": 16,
   "metadata": {},
   "outputs": [],
   "source": [
    "internet['session_date'] = pd.to_datetime(internet['session_date'])\n",
    "internet['month'] = internet['session_date'].dt.month"
   ]
  },
  {
   "cell_type": "markdown",
   "metadata": {},
   "source": [
    "## Study plan conditions"
   ]
  },
  {
   "cell_type": "code",
   "execution_count": 17,
   "metadata": {},
   "outputs": [
    {
     "data": {
      "text/html": [
       "<div>\n",
       "<style scoped>\n",
       "    .dataframe tbody tr th:only-of-type {\n",
       "        vertical-align: middle;\n",
       "    }\n",
       "\n",
       "    .dataframe tbody tr th {\n",
       "        vertical-align: top;\n",
       "    }\n",
       "\n",
       "    .dataframe thead th {\n",
       "        text-align: right;\n",
       "    }\n",
       "</style>\n",
       "<table border=\"1\" class=\"dataframe\">\n",
       "  <thead>\n",
       "    <tr style=\"text-align: right;\">\n",
       "      <th></th>\n",
       "      <th>messages_included</th>\n",
       "      <th>mb_per_month_included</th>\n",
       "      <th>minutes_included</th>\n",
       "      <th>usd_monthly_pay</th>\n",
       "      <th>usd_per_gb</th>\n",
       "      <th>usd_per_message</th>\n",
       "      <th>usd_per_minute</th>\n",
       "      <th>plan_name</th>\n",
       "    </tr>\n",
       "  </thead>\n",
       "  <tbody>\n",
       "    <tr>\n",
       "      <th>0</th>\n",
       "      <td>50</td>\n",
       "      <td>15360</td>\n",
       "      <td>500</td>\n",
       "      <td>20</td>\n",
       "      <td>10</td>\n",
       "      <td>0.03</td>\n",
       "      <td>0.03</td>\n",
       "      <td>surf</td>\n",
       "    </tr>\n",
       "    <tr>\n",
       "      <th>1</th>\n",
       "      <td>1000</td>\n",
       "      <td>30720</td>\n",
       "      <td>3000</td>\n",
       "      <td>70</td>\n",
       "      <td>7</td>\n",
       "      <td>0.01</td>\n",
       "      <td>0.01</td>\n",
       "      <td>ultimate</td>\n",
       "    </tr>\n",
       "  </tbody>\n",
       "</table>\n",
       "</div>"
      ],
      "text/plain": [
       "   messages_included  mb_per_month_included  minutes_included  \\\n",
       "0                 50                  15360               500   \n",
       "1               1000                  30720              3000   \n",
       "\n",
       "   usd_monthly_pay  usd_per_gb  usd_per_message  usd_per_minute plan_name  \n",
       "0               20          10             0.03            0.03      surf  \n",
       "1               70           7             0.01            0.01  ultimate  "
      ]
     },
     "execution_count": 17,
     "metadata": {},
     "output_type": "execute_result"
    }
   ],
   "source": [
    "# Print out the plan conditions and make sure they are clear for you\n",
    "plans\n"
   ]
  },
  {
   "cell_type": "markdown",
   "metadata": {},
   "source": [
    "## Aggregate data per user"
   ]
  },
  {
   "cell_type": "code",
   "execution_count": 18,
   "metadata": {},
   "outputs": [
    {
     "data": {
      "text/html": [
       "<div>\n",
       "<style scoped>\n",
       "    .dataframe tbody tr th:only-of-type {\n",
       "        vertical-align: middle;\n",
       "    }\n",
       "\n",
       "    .dataframe tbody tr th {\n",
       "        vertical-align: top;\n",
       "    }\n",
       "\n",
       "    .dataframe thead th {\n",
       "        text-align: right;\n",
       "    }\n",
       "</style>\n",
       "<table border=\"1\" class=\"dataframe\">\n",
       "  <thead>\n",
       "    <tr style=\"text-align: right;\">\n",
       "      <th></th>\n",
       "      <th>id</th>\n",
       "      <th>user_id</th>\n",
       "      <th>call_date</th>\n",
       "      <th>duration</th>\n",
       "      <th>month</th>\n",
       "    </tr>\n",
       "  </thead>\n",
       "  <tbody>\n",
       "    <tr>\n",
       "      <th>0</th>\n",
       "      <td>1000_93</td>\n",
       "      <td>1000</td>\n",
       "      <td>2018-12-27</td>\n",
       "      <td>9</td>\n",
       "      <td>12</td>\n",
       "    </tr>\n",
       "    <tr>\n",
       "      <th>1</th>\n",
       "      <td>1000_145</td>\n",
       "      <td>1000</td>\n",
       "      <td>2018-12-27</td>\n",
       "      <td>14</td>\n",
       "      <td>12</td>\n",
       "    </tr>\n",
       "    <tr>\n",
       "      <th>2</th>\n",
       "      <td>1000_247</td>\n",
       "      <td>1000</td>\n",
       "      <td>2018-12-27</td>\n",
       "      <td>15</td>\n",
       "      <td>12</td>\n",
       "    </tr>\n",
       "    <tr>\n",
       "      <th>3</th>\n",
       "      <td>1000_309</td>\n",
       "      <td>1000</td>\n",
       "      <td>2018-12-28</td>\n",
       "      <td>6</td>\n",
       "      <td>12</td>\n",
       "    </tr>\n",
       "    <tr>\n",
       "      <th>4</th>\n",
       "      <td>1000_380</td>\n",
       "      <td>1000</td>\n",
       "      <td>2018-12-30</td>\n",
       "      <td>5</td>\n",
       "      <td>12</td>\n",
       "    </tr>\n",
       "    <tr>\n",
       "      <th>...</th>\n",
       "      <td>...</td>\n",
       "      <td>...</td>\n",
       "      <td>...</td>\n",
       "      <td>...</td>\n",
       "      <td>...</td>\n",
       "    </tr>\n",
       "    <tr>\n",
       "      <th>137730</th>\n",
       "      <td>1499_199</td>\n",
       "      <td>1499</td>\n",
       "      <td>2018-11-21</td>\n",
       "      <td>9</td>\n",
       "      <td>11</td>\n",
       "    </tr>\n",
       "    <tr>\n",
       "      <th>137731</th>\n",
       "      <td>1499_200</td>\n",
       "      <td>1499</td>\n",
       "      <td>2018-10-20</td>\n",
       "      <td>11</td>\n",
       "      <td>10</td>\n",
       "    </tr>\n",
       "    <tr>\n",
       "      <th>137732</th>\n",
       "      <td>1499_201</td>\n",
       "      <td>1499</td>\n",
       "      <td>2018-09-21</td>\n",
       "      <td>9</td>\n",
       "      <td>9</td>\n",
       "    </tr>\n",
       "    <tr>\n",
       "      <th>137733</th>\n",
       "      <td>1499_202</td>\n",
       "      <td>1499</td>\n",
       "      <td>2018-10-10</td>\n",
       "      <td>1</td>\n",
       "      <td>10</td>\n",
       "    </tr>\n",
       "    <tr>\n",
       "      <th>137734</th>\n",
       "      <td>1499_203</td>\n",
       "      <td>1499</td>\n",
       "      <td>2018-12-29</td>\n",
       "      <td>14</td>\n",
       "      <td>12</td>\n",
       "    </tr>\n",
       "  </tbody>\n",
       "</table>\n",
       "<p>137735 rows × 5 columns</p>\n",
       "</div>"
      ],
      "text/plain": [
       "              id  user_id  call_date  duration  month\n",
       "0        1000_93     1000 2018-12-27         9     12\n",
       "1       1000_145     1000 2018-12-27        14     12\n",
       "2       1000_247     1000 2018-12-27        15     12\n",
       "3       1000_309     1000 2018-12-28         6     12\n",
       "4       1000_380     1000 2018-12-30         5     12\n",
       "...          ...      ...        ...       ...    ...\n",
       "137730  1499_199     1499 2018-11-21         9     11\n",
       "137731  1499_200     1499 2018-10-20        11     10\n",
       "137732  1499_201     1499 2018-09-21         9      9\n",
       "137733  1499_202     1499 2018-10-10         1     10\n",
       "137734  1499_203     1499 2018-12-29        14     12\n",
       "\n",
       "[137735 rows x 5 columns]"
      ]
     },
     "metadata": {},
     "output_type": "display_data"
    },
    {
     "name": "stdout",
     "output_type": "stream",
     "text": [
      "      user_id  month  id\n",
      "0        1000     12  16\n",
      "1        1001      8  27\n",
      "2        1001      9  49\n",
      "3        1001     10  65\n",
      "4        1001     11  64\n",
      "...       ...    ...  ..\n",
      "2253     1498     12  39\n",
      "2254     1499      9  41\n",
      "2255     1499     10  53\n",
      "2256     1499     11  45\n",
      "2257     1499     12  65\n",
      "\n",
      "[2258 rows x 3 columns]\n"
     ]
    }
   ],
   "source": [
    "# Calculate the number of calls made by each user per month. Save the result.\n",
    "display(calls)\n",
    "\n",
    "calls_per_user = calls.groupby(['user_id', 'month'])['id'].count().reset_index()\n",
    "print(calls_per_user)\n"
   ]
  },
  {
   "cell_type": "code",
   "execution_count": 19,
   "metadata": {},
   "outputs": [
    {
     "name": "stdout",
     "output_type": "stream",
     "text": [
      "      user_id  month  duration\n",
      "0        1000     12       124\n",
      "1        1001      8       182\n",
      "2        1001      9       315\n",
      "3        1001     10       393\n",
      "4        1001     11       426\n",
      "...       ...    ...       ...\n",
      "2253     1498     12       339\n",
      "2254     1499      9       346\n",
      "2255     1499     10       385\n",
      "2256     1499     11       308\n",
      "2257     1499     12       496\n",
      "\n",
      "[2258 rows x 3 columns]\n"
     ]
    }
   ],
   "source": [
    "# Calculate the amount of minutes spent by each user per month. Save the result.\n",
    "duration_per_user = (calls.groupby(['user_id', 'month'])['duration'].sum().reset_index())\n",
    "print(duration_per_user)"
   ]
  },
  {
   "cell_type": "code",
   "execution_count": 20,
   "metadata": {},
   "outputs": [
    {
     "data": {
      "text/html": [
       "<div>\n",
       "<style scoped>\n",
       "    .dataframe tbody tr th:only-of-type {\n",
       "        vertical-align: middle;\n",
       "    }\n",
       "\n",
       "    .dataframe tbody tr th {\n",
       "        vertical-align: top;\n",
       "    }\n",
       "\n",
       "    .dataframe thead th {\n",
       "        text-align: right;\n",
       "    }\n",
       "</style>\n",
       "<table border=\"1\" class=\"dataframe\">\n",
       "  <thead>\n",
       "    <tr style=\"text-align: right;\">\n",
       "      <th></th>\n",
       "      <th></th>\n",
       "      <th>count</th>\n",
       "      <th>sum</th>\n",
       "    </tr>\n",
       "    <tr>\n",
       "      <th>user_id</th>\n",
       "      <th>month</th>\n",
       "      <th></th>\n",
       "      <th></th>\n",
       "    </tr>\n",
       "  </thead>\n",
       "  <tbody>\n",
       "    <tr>\n",
       "      <th>1000</th>\n",
       "      <th>12</th>\n",
       "      <td>16</td>\n",
       "      <td>124</td>\n",
       "    </tr>\n",
       "    <tr>\n",
       "      <th rowspan=\"4\" valign=\"top\">1001</th>\n",
       "      <th>8</th>\n",
       "      <td>27</td>\n",
       "      <td>182</td>\n",
       "    </tr>\n",
       "    <tr>\n",
       "      <th>9</th>\n",
       "      <td>49</td>\n",
       "      <td>315</td>\n",
       "    </tr>\n",
       "    <tr>\n",
       "      <th>10</th>\n",
       "      <td>65</td>\n",
       "      <td>393</td>\n",
       "    </tr>\n",
       "    <tr>\n",
       "      <th>11</th>\n",
       "      <td>64</td>\n",
       "      <td>426</td>\n",
       "    </tr>\n",
       "    <tr>\n",
       "      <th>...</th>\n",
       "      <th>...</th>\n",
       "      <td>...</td>\n",
       "      <td>...</td>\n",
       "    </tr>\n",
       "    <tr>\n",
       "      <th>1498</th>\n",
       "      <th>12</th>\n",
       "      <td>39</td>\n",
       "      <td>339</td>\n",
       "    </tr>\n",
       "    <tr>\n",
       "      <th rowspan=\"4\" valign=\"top\">1499</th>\n",
       "      <th>9</th>\n",
       "      <td>41</td>\n",
       "      <td>346</td>\n",
       "    </tr>\n",
       "    <tr>\n",
       "      <th>10</th>\n",
       "      <td>53</td>\n",
       "      <td>385</td>\n",
       "    </tr>\n",
       "    <tr>\n",
       "      <th>11</th>\n",
       "      <td>45</td>\n",
       "      <td>308</td>\n",
       "    </tr>\n",
       "    <tr>\n",
       "      <th>12</th>\n",
       "      <td>65</td>\n",
       "      <td>496</td>\n",
       "    </tr>\n",
       "  </tbody>\n",
       "</table>\n",
       "<p>2258 rows × 2 columns</p>\n",
       "</div>"
      ],
      "text/plain": [
       "               count  sum\n",
       "user_id month            \n",
       "1000    12        16  124\n",
       "1001    8         27  182\n",
       "        9         49  315\n",
       "        10        65  393\n",
       "        11        64  426\n",
       "...              ...  ...\n",
       "1498    12        39  339\n",
       "1499    9         41  346\n",
       "        10        53  385\n",
       "        11        45  308\n",
       "        12        65  496\n",
       "\n",
       "[2258 rows x 2 columns]"
      ]
     },
     "execution_count": 20,
     "metadata": {},
     "output_type": "execute_result"
    }
   ],
   "source": [
    "# Reviewer's code\n",
    "\n",
    "calls.groupby(['user_id', 'month'])['duration'].agg(['count', 'sum'])"
   ]
  },
  {
   "cell_type": "code",
   "execution_count": 21,
   "metadata": {},
   "outputs": [
    {
     "name": "stdout",
     "output_type": "stream",
     "text": [
      "      user_id  month  id\n",
      "0        1000     12  11\n",
      "1        1001      8  30\n",
      "2        1001      9  44\n",
      "3        1001     10  53\n",
      "4        1001     11  36\n",
      "...       ...    ...  ..\n",
      "1801     1496      9  21\n",
      "1802     1496     10  18\n",
      "1803     1496     11  13\n",
      "1804     1496     12  11\n",
      "1805     1497     12  50\n",
      "\n",
      "[1806 rows x 3 columns]\n"
     ]
    }
   ],
   "source": [
    "# Calculate the number of messages sent by each user per month. Save the result.\n",
    "messages_per_user = messages.groupby(['user_id', 'month'])['id'].count().reset_index()\n",
    "print(messages_per_user)"
   ]
  },
  {
   "cell_type": "code",
   "execution_count": 22,
   "metadata": {},
   "outputs": [
    {
     "name": "stdout",
     "output_type": "stream",
     "text": [
      "      user_id  month  gb_used\n",
      "0        1000     12      2.0\n",
      "1        1001      8      7.0\n",
      "2        1001      9     14.0\n",
      "3        1001     10     22.0\n",
      "4        1001     11     19.0\n",
      "...       ...    ...      ...\n",
      "2272     1498     12     23.0\n",
      "2273     1499      9     13.0\n",
      "2274     1499     10     20.0\n",
      "2275     1499     11     17.0\n",
      "2276     1499     12     22.0\n",
      "\n",
      "[2277 rows x 3 columns]\n"
     ]
    }
   ],
   "source": [
    "# Calculate the volume of internet traffic used by each user per month. Save the result.\n",
    "traffic_per_user = internet.groupby(['user_id', 'month'])['gb_used'].sum().reset_index()\n",
    "traffic_per_user['gb_used'] = np.ceil(traffic_per_user['gb_used'] / 1024)\n",
    "\n",
    "print(traffic_per_user)\n"
   ]
  },
  {
   "cell_type": "markdown",
   "metadata": {},
   "source": [
    "Used the groupby() function to group individual users by the month they used the service, then since the plans round up the amount to the nearest gigabite, used np.ceil() to round up to the nearest thousand."
   ]
  },
  {
   "cell_type": "code",
   "execution_count": 23,
   "metadata": {},
   "outputs": [
    {
     "data": {
      "text/html": [
       "<div>\n",
       "<style scoped>\n",
       "    .dataframe tbody tr th:only-of-type {\n",
       "        vertical-align: middle;\n",
       "    }\n",
       "\n",
       "    .dataframe tbody tr th {\n",
       "        vertical-align: top;\n",
       "    }\n",
       "\n",
       "    .dataframe thead th {\n",
       "        text-align: right;\n",
       "    }\n",
       "</style>\n",
       "<table border=\"1\" class=\"dataframe\">\n",
       "  <thead>\n",
       "    <tr style=\"text-align: right;\">\n",
       "      <th></th>\n",
       "      <th>user_id</th>\n",
       "      <th>month</th>\n",
       "      <th>calls_per_user</th>\n",
       "      <th>duration</th>\n",
       "      <th>messages_per_user</th>\n",
       "      <th>gb_used</th>\n",
       "    </tr>\n",
       "  </thead>\n",
       "  <tbody>\n",
       "    <tr>\n",
       "      <th>0</th>\n",
       "      <td>1000</td>\n",
       "      <td>12</td>\n",
       "      <td>16.0</td>\n",
       "      <td>124.0</td>\n",
       "      <td>11.0</td>\n",
       "      <td>2.0</td>\n",
       "    </tr>\n",
       "    <tr>\n",
       "      <th>1</th>\n",
       "      <td>1001</td>\n",
       "      <td>8</td>\n",
       "      <td>27.0</td>\n",
       "      <td>182.0</td>\n",
       "      <td>30.0</td>\n",
       "      <td>7.0</td>\n",
       "    </tr>\n",
       "    <tr>\n",
       "      <th>2</th>\n",
       "      <td>1001</td>\n",
       "      <td>9</td>\n",
       "      <td>49.0</td>\n",
       "      <td>315.0</td>\n",
       "      <td>44.0</td>\n",
       "      <td>14.0</td>\n",
       "    </tr>\n",
       "    <tr>\n",
       "      <th>3</th>\n",
       "      <td>1001</td>\n",
       "      <td>10</td>\n",
       "      <td>65.0</td>\n",
       "      <td>393.0</td>\n",
       "      <td>53.0</td>\n",
       "      <td>22.0</td>\n",
       "    </tr>\n",
       "    <tr>\n",
       "      <th>4</th>\n",
       "      <td>1001</td>\n",
       "      <td>11</td>\n",
       "      <td>64.0</td>\n",
       "      <td>426.0</td>\n",
       "      <td>36.0</td>\n",
       "      <td>19.0</td>\n",
       "    </tr>\n",
       "    <tr>\n",
       "      <th>...</th>\n",
       "      <td>...</td>\n",
       "      <td>...</td>\n",
       "      <td>...</td>\n",
       "      <td>...</td>\n",
       "      <td>...</td>\n",
       "      <td>...</td>\n",
       "    </tr>\n",
       "    <tr>\n",
       "      <th>2288</th>\n",
       "      <td>1349</td>\n",
       "      <td>12</td>\n",
       "      <td>0.0</td>\n",
       "      <td>0.0</td>\n",
       "      <td>61.0</td>\n",
       "      <td>13.0</td>\n",
       "    </tr>\n",
       "    <tr>\n",
       "      <th>2289</th>\n",
       "      <td>1361</td>\n",
       "      <td>5</td>\n",
       "      <td>0.0</td>\n",
       "      <td>0.0</td>\n",
       "      <td>2.0</td>\n",
       "      <td>2.0</td>\n",
       "    </tr>\n",
       "    <tr>\n",
       "      <th>2290</th>\n",
       "      <td>1482</td>\n",
       "      <td>10</td>\n",
       "      <td>0.0</td>\n",
       "      <td>0.0</td>\n",
       "      <td>2.0</td>\n",
       "      <td>0.0</td>\n",
       "    </tr>\n",
       "    <tr>\n",
       "      <th>2291</th>\n",
       "      <td>1108</td>\n",
       "      <td>12</td>\n",
       "      <td>0.0</td>\n",
       "      <td>0.0</td>\n",
       "      <td>0.0</td>\n",
       "      <td>1.0</td>\n",
       "    </tr>\n",
       "    <tr>\n",
       "      <th>2292</th>\n",
       "      <td>1311</td>\n",
       "      <td>6</td>\n",
       "      <td>0.0</td>\n",
       "      <td>0.0</td>\n",
       "      <td>0.0</td>\n",
       "      <td>2.0</td>\n",
       "    </tr>\n",
       "  </tbody>\n",
       "</table>\n",
       "<p>2293 rows × 6 columns</p>\n",
       "</div>"
      ],
      "text/plain": [
       "      user_id  month  calls_per_user  duration  messages_per_user  gb_used\n",
       "0        1000     12            16.0     124.0               11.0      2.0\n",
       "1        1001      8            27.0     182.0               30.0      7.0\n",
       "2        1001      9            49.0     315.0               44.0     14.0\n",
       "3        1001     10            65.0     393.0               53.0     22.0\n",
       "4        1001     11            64.0     426.0               36.0     19.0\n",
       "...       ...    ...             ...       ...                ...      ...\n",
       "2288     1349     12             0.0       0.0               61.0     13.0\n",
       "2289     1361      5             0.0       0.0                2.0      2.0\n",
       "2290     1482     10             0.0       0.0                2.0      0.0\n",
       "2291     1108     12             0.0       0.0                0.0      1.0\n",
       "2292     1311      6             0.0       0.0                0.0      2.0\n",
       "\n",
       "[2293 rows x 6 columns]"
      ]
     },
     "metadata": {},
     "output_type": "display_data"
    }
   ],
   "source": [
    "# Merge the data for calls, minutes, messages, internet based on user_id and month\n",
    "merged_info_df = calls_per_user.merge(duration_per_user, on=['user_id', 'month'], how='outer')\n",
    "merged_info_df2 = merged_info_df.merge(messages_per_user, on=['user_id', 'month'], how='outer')\n",
    "merged_info_final = merged_info_df2.merge(traffic_per_user, on=['user_id', 'month'], how='outer')\n",
    "merged_info_final.rename(columns={'id_x': 'calls_per_user', 'id_y': 'messages_per_user'}, inplace=True)\n",
    "merged_info_final['calls_per_user'].fillna(0, inplace=True)\n",
    "merged_info_final['duration'].fillna(0, inplace=True)\n",
    "merged_info_final['messages_per_user'].fillna(0, inplace=True)\n",
    "merged_info_final['gb_used'].fillna(0, inplace=True)\n",
    "display(merged_info_final)\n"
   ]
  },
  {
   "cell_type": "code",
   "execution_count": 24,
   "metadata": {},
   "outputs": [
    {
     "data": {
      "text/html": [
       "<div>\n",
       "<style scoped>\n",
       "    .dataframe tbody tr th:only-of-type {\n",
       "        vertical-align: middle;\n",
       "    }\n",
       "\n",
       "    .dataframe tbody tr th {\n",
       "        vertical-align: top;\n",
       "    }\n",
       "\n",
       "    .dataframe thead th {\n",
       "        text-align: right;\n",
       "    }\n",
       "</style>\n",
       "<table border=\"1\" class=\"dataframe\">\n",
       "  <thead>\n",
       "    <tr style=\"text-align: right;\">\n",
       "      <th></th>\n",
       "      <th>user_id</th>\n",
       "      <th>month</th>\n",
       "      <th>calls_per_user</th>\n",
       "      <th>duration</th>\n",
       "      <th>messages_per_user</th>\n",
       "      <th>gb_used</th>\n",
       "      <th>city</th>\n",
       "      <th>plan</th>\n",
       "      <th>churn_date</th>\n",
       "    </tr>\n",
       "  </thead>\n",
       "  <tbody>\n",
       "    <tr>\n",
       "      <th>0</th>\n",
       "      <td>1000</td>\n",
       "      <td>12</td>\n",
       "      <td>16.0</td>\n",
       "      <td>124.0</td>\n",
       "      <td>11.0</td>\n",
       "      <td>2.0</td>\n",
       "      <td>Atlanta-Sandy Springs-Roswell, GA MSA</td>\n",
       "      <td>ultimate</td>\n",
       "      <td>NaN</td>\n",
       "    </tr>\n",
       "    <tr>\n",
       "      <th>1</th>\n",
       "      <td>1001</td>\n",
       "      <td>8</td>\n",
       "      <td>27.0</td>\n",
       "      <td>182.0</td>\n",
       "      <td>30.0</td>\n",
       "      <td>7.0</td>\n",
       "      <td>Seattle-Tacoma-Bellevue, WA MSA</td>\n",
       "      <td>surf</td>\n",
       "      <td>NaN</td>\n",
       "    </tr>\n",
       "    <tr>\n",
       "      <th>2</th>\n",
       "      <td>1001</td>\n",
       "      <td>9</td>\n",
       "      <td>49.0</td>\n",
       "      <td>315.0</td>\n",
       "      <td>44.0</td>\n",
       "      <td>14.0</td>\n",
       "      <td>Seattle-Tacoma-Bellevue, WA MSA</td>\n",
       "      <td>surf</td>\n",
       "      <td>NaN</td>\n",
       "    </tr>\n",
       "    <tr>\n",
       "      <th>3</th>\n",
       "      <td>1001</td>\n",
       "      <td>10</td>\n",
       "      <td>65.0</td>\n",
       "      <td>393.0</td>\n",
       "      <td>53.0</td>\n",
       "      <td>22.0</td>\n",
       "      <td>Seattle-Tacoma-Bellevue, WA MSA</td>\n",
       "      <td>surf</td>\n",
       "      <td>NaN</td>\n",
       "    </tr>\n",
       "    <tr>\n",
       "      <th>4</th>\n",
       "      <td>1001</td>\n",
       "      <td>11</td>\n",
       "      <td>64.0</td>\n",
       "      <td>426.0</td>\n",
       "      <td>36.0</td>\n",
       "      <td>19.0</td>\n",
       "      <td>Seattle-Tacoma-Bellevue, WA MSA</td>\n",
       "      <td>surf</td>\n",
       "      <td>NaN</td>\n",
       "    </tr>\n",
       "    <tr>\n",
       "      <th>...</th>\n",
       "      <td>...</td>\n",
       "      <td>...</td>\n",
       "      <td>...</td>\n",
       "      <td>...</td>\n",
       "      <td>...</td>\n",
       "      <td>...</td>\n",
       "      <td>...</td>\n",
       "      <td>...</td>\n",
       "      <td>...</td>\n",
       "    </tr>\n",
       "    <tr>\n",
       "      <th>2288</th>\n",
       "      <td>1349</td>\n",
       "      <td>12</td>\n",
       "      <td>0.0</td>\n",
       "      <td>0.0</td>\n",
       "      <td>61.0</td>\n",
       "      <td>13.0</td>\n",
       "      <td>Boston-Cambridge-Newton, MA-NH MSA</td>\n",
       "      <td>surf</td>\n",
       "      <td>NaN</td>\n",
       "    </tr>\n",
       "    <tr>\n",
       "      <th>2289</th>\n",
       "      <td>1361</td>\n",
       "      <td>5</td>\n",
       "      <td>0.0</td>\n",
       "      <td>0.0</td>\n",
       "      <td>2.0</td>\n",
       "      <td>2.0</td>\n",
       "      <td>Birmingham-Hoover, AL MSA</td>\n",
       "      <td>surf</td>\n",
       "      <td>NaN</td>\n",
       "    </tr>\n",
       "    <tr>\n",
       "      <th>2290</th>\n",
       "      <td>1482</td>\n",
       "      <td>10</td>\n",
       "      <td>0.0</td>\n",
       "      <td>0.0</td>\n",
       "      <td>2.0</td>\n",
       "      <td>0.0</td>\n",
       "      <td>New York-Newark-Jersey City, NY-NJ-PA MSA</td>\n",
       "      <td>ultimate</td>\n",
       "      <td>NaN</td>\n",
       "    </tr>\n",
       "    <tr>\n",
       "      <th>2291</th>\n",
       "      <td>1108</td>\n",
       "      <td>12</td>\n",
       "      <td>0.0</td>\n",
       "      <td>0.0</td>\n",
       "      <td>0.0</td>\n",
       "      <td>1.0</td>\n",
       "      <td>Salt Lake City, UT MSA</td>\n",
       "      <td>ultimate</td>\n",
       "      <td>NaN</td>\n",
       "    </tr>\n",
       "    <tr>\n",
       "      <th>2292</th>\n",
       "      <td>1311</td>\n",
       "      <td>6</td>\n",
       "      <td>0.0</td>\n",
       "      <td>0.0</td>\n",
       "      <td>0.0</td>\n",
       "      <td>2.0</td>\n",
       "      <td>Memphis, TN-MS-AR MSA</td>\n",
       "      <td>ultimate</td>\n",
       "      <td>NaN</td>\n",
       "    </tr>\n",
       "  </tbody>\n",
       "</table>\n",
       "<p>2293 rows × 9 columns</p>\n",
       "</div>"
      ],
      "text/plain": [
       "      user_id  month  calls_per_user  duration  messages_per_user  gb_used  \\\n",
       "0        1000     12            16.0     124.0               11.0      2.0   \n",
       "1        1001      8            27.0     182.0               30.0      7.0   \n",
       "2        1001      9            49.0     315.0               44.0     14.0   \n",
       "3        1001     10            65.0     393.0               53.0     22.0   \n",
       "4        1001     11            64.0     426.0               36.0     19.0   \n",
       "...       ...    ...             ...       ...                ...      ...   \n",
       "2288     1349     12             0.0       0.0               61.0     13.0   \n",
       "2289     1361      5             0.0       0.0                2.0      2.0   \n",
       "2290     1482     10             0.0       0.0                2.0      0.0   \n",
       "2291     1108     12             0.0       0.0                0.0      1.0   \n",
       "2292     1311      6             0.0       0.0                0.0      2.0   \n",
       "\n",
       "                                           city      plan churn_date  \n",
       "0         Atlanta-Sandy Springs-Roswell, GA MSA  ultimate        NaN  \n",
       "1               Seattle-Tacoma-Bellevue, WA MSA      surf        NaN  \n",
       "2               Seattle-Tacoma-Bellevue, WA MSA      surf        NaN  \n",
       "3               Seattle-Tacoma-Bellevue, WA MSA      surf        NaN  \n",
       "4               Seattle-Tacoma-Bellevue, WA MSA      surf        NaN  \n",
       "...                                         ...       ...        ...  \n",
       "2288         Boston-Cambridge-Newton, MA-NH MSA      surf        NaN  \n",
       "2289                  Birmingham-Hoover, AL MSA      surf        NaN  \n",
       "2290  New York-Newark-Jersey City, NY-NJ-PA MSA  ultimate        NaN  \n",
       "2291                     Salt Lake City, UT MSA  ultimate        NaN  \n",
       "2292                      Memphis, TN-MS-AR MSA  ultimate        NaN  \n",
       "\n",
       "[2293 rows x 9 columns]"
      ]
     },
     "metadata": {},
     "output_type": "display_data"
    }
   ],
   "source": [
    "# Add the plan information\n",
    "user_stats_plan = merged_info_final.merge(users, on='user_id', how='left')\n",
    "columns_to_drop = ['first_name', 'last_name', 'age', 'reg_date']\n",
    "user_stats_plan.drop(columns=columns_to_drop, inplace=True)\n",
    "display(user_stats_plan)\n"
   ]
  },
  {
   "cell_type": "markdown",
   "metadata": {},
   "source": [
    "First, create a function with all the parameters of the data plans. Then, use and if-else loop to filter through the 'plan' column and calculate the total price owed depending on which plan the user has chosen. Display the dataframe to make sure the function ran properly."
   ]
  },
  {
   "cell_type": "code",
   "execution_count": 25,
   "metadata": {},
   "outputs": [
    {
     "data": {
      "text/html": [
       "<div>\n",
       "<style scoped>\n",
       "    .dataframe tbody tr th:only-of-type {\n",
       "        vertical-align: middle;\n",
       "    }\n",
       "\n",
       "    .dataframe tbody tr th {\n",
       "        vertical-align: top;\n",
       "    }\n",
       "\n",
       "    .dataframe thead th {\n",
       "        text-align: right;\n",
       "    }\n",
       "</style>\n",
       "<table border=\"1\" class=\"dataframe\">\n",
       "  <thead>\n",
       "    <tr style=\"text-align: right;\">\n",
       "      <th></th>\n",
       "      <th>messages_included</th>\n",
       "      <th>mb_per_month_included</th>\n",
       "      <th>minutes_included</th>\n",
       "      <th>usd_monthly_pay</th>\n",
       "      <th>usd_per_gb</th>\n",
       "      <th>usd_per_message</th>\n",
       "      <th>usd_per_minute</th>\n",
       "      <th>plan_name</th>\n",
       "    </tr>\n",
       "  </thead>\n",
       "  <tbody>\n",
       "    <tr>\n",
       "      <th>0</th>\n",
       "      <td>50</td>\n",
       "      <td>15360</td>\n",
       "      <td>500</td>\n",
       "      <td>20</td>\n",
       "      <td>10</td>\n",
       "      <td>0.03</td>\n",
       "      <td>0.03</td>\n",
       "      <td>surf</td>\n",
       "    </tr>\n",
       "    <tr>\n",
       "      <th>1</th>\n",
       "      <td>1000</td>\n",
       "      <td>30720</td>\n",
       "      <td>3000</td>\n",
       "      <td>70</td>\n",
       "      <td>7</td>\n",
       "      <td>0.01</td>\n",
       "      <td>0.01</td>\n",
       "      <td>ultimate</td>\n",
       "    </tr>\n",
       "  </tbody>\n",
       "</table>\n",
       "</div>"
      ],
      "text/plain": [
       "   messages_included  mb_per_month_included  minutes_included  \\\n",
       "0                 50                  15360               500   \n",
       "1               1000                  30720              3000   \n",
       "\n",
       "   usd_monthly_pay  usd_per_gb  usd_per_message  usd_per_minute plan_name  \n",
       "0               20          10             0.03            0.03      surf  \n",
       "1               70           7             0.01            0.01  ultimate  "
      ]
     },
     "metadata": {},
     "output_type": "display_data"
    },
    {
     "data": {
      "text/html": [
       "<div>\n",
       "<style scoped>\n",
       "    .dataframe tbody tr th:only-of-type {\n",
       "        vertical-align: middle;\n",
       "    }\n",
       "\n",
       "    .dataframe tbody tr th {\n",
       "        vertical-align: top;\n",
       "    }\n",
       "\n",
       "    .dataframe thead th {\n",
       "        text-align: right;\n",
       "    }\n",
       "</style>\n",
       "<table border=\"1\" class=\"dataframe\">\n",
       "  <thead>\n",
       "    <tr style=\"text-align: right;\">\n",
       "      <th></th>\n",
       "      <th>user_id</th>\n",
       "      <th>month</th>\n",
       "      <th>calls_per_user</th>\n",
       "      <th>duration</th>\n",
       "      <th>messages_per_user</th>\n",
       "      <th>gb_used</th>\n",
       "      <th>city</th>\n",
       "      <th>plan</th>\n",
       "      <th>churn_date</th>\n",
       "      <th>total_charge</th>\n",
       "    </tr>\n",
       "  </thead>\n",
       "  <tbody>\n",
       "    <tr>\n",
       "      <th>0</th>\n",
       "      <td>1000</td>\n",
       "      <td>12</td>\n",
       "      <td>16.0</td>\n",
       "      <td>124.0</td>\n",
       "      <td>11.0</td>\n",
       "      <td>2.0</td>\n",
       "      <td>Atlanta-Sandy Springs-Roswell, GA MSA</td>\n",
       "      <td>ultimate</td>\n",
       "      <td>NaN</td>\n",
       "      <td>70.00</td>\n",
       "    </tr>\n",
       "    <tr>\n",
       "      <th>1</th>\n",
       "      <td>1001</td>\n",
       "      <td>8</td>\n",
       "      <td>27.0</td>\n",
       "      <td>182.0</td>\n",
       "      <td>30.0</td>\n",
       "      <td>7.0</td>\n",
       "      <td>Seattle-Tacoma-Bellevue, WA MSA</td>\n",
       "      <td>surf</td>\n",
       "      <td>NaN</td>\n",
       "      <td>20.00</td>\n",
       "    </tr>\n",
       "    <tr>\n",
       "      <th>2</th>\n",
       "      <td>1001</td>\n",
       "      <td>9</td>\n",
       "      <td>49.0</td>\n",
       "      <td>315.0</td>\n",
       "      <td>44.0</td>\n",
       "      <td>14.0</td>\n",
       "      <td>Seattle-Tacoma-Bellevue, WA MSA</td>\n",
       "      <td>surf</td>\n",
       "      <td>NaN</td>\n",
       "      <td>20.00</td>\n",
       "    </tr>\n",
       "    <tr>\n",
       "      <th>3</th>\n",
       "      <td>1001</td>\n",
       "      <td>10</td>\n",
       "      <td>65.0</td>\n",
       "      <td>393.0</td>\n",
       "      <td>53.0</td>\n",
       "      <td>22.0</td>\n",
       "      <td>Seattle-Tacoma-Bellevue, WA MSA</td>\n",
       "      <td>surf</td>\n",
       "      <td>NaN</td>\n",
       "      <td>90.09</td>\n",
       "    </tr>\n",
       "    <tr>\n",
       "      <th>4</th>\n",
       "      <td>1001</td>\n",
       "      <td>11</td>\n",
       "      <td>64.0</td>\n",
       "      <td>426.0</td>\n",
       "      <td>36.0</td>\n",
       "      <td>19.0</td>\n",
       "      <td>Seattle-Tacoma-Bellevue, WA MSA</td>\n",
       "      <td>surf</td>\n",
       "      <td>NaN</td>\n",
       "      <td>60.00</td>\n",
       "    </tr>\n",
       "    <tr>\n",
       "      <th>...</th>\n",
       "      <td>...</td>\n",
       "      <td>...</td>\n",
       "      <td>...</td>\n",
       "      <td>...</td>\n",
       "      <td>...</td>\n",
       "      <td>...</td>\n",
       "      <td>...</td>\n",
       "      <td>...</td>\n",
       "      <td>...</td>\n",
       "      <td>...</td>\n",
       "    </tr>\n",
       "    <tr>\n",
       "      <th>2288</th>\n",
       "      <td>1349</td>\n",
       "      <td>12</td>\n",
       "      <td>0.0</td>\n",
       "      <td>0.0</td>\n",
       "      <td>61.0</td>\n",
       "      <td>13.0</td>\n",
       "      <td>Boston-Cambridge-Newton, MA-NH MSA</td>\n",
       "      <td>surf</td>\n",
       "      <td>NaN</td>\n",
       "      <td>20.33</td>\n",
       "    </tr>\n",
       "    <tr>\n",
       "      <th>2289</th>\n",
       "      <td>1361</td>\n",
       "      <td>5</td>\n",
       "      <td>0.0</td>\n",
       "      <td>0.0</td>\n",
       "      <td>2.0</td>\n",
       "      <td>2.0</td>\n",
       "      <td>Birmingham-Hoover, AL MSA</td>\n",
       "      <td>surf</td>\n",
       "      <td>NaN</td>\n",
       "      <td>20.00</td>\n",
       "    </tr>\n",
       "    <tr>\n",
       "      <th>2290</th>\n",
       "      <td>1482</td>\n",
       "      <td>10</td>\n",
       "      <td>0.0</td>\n",
       "      <td>0.0</td>\n",
       "      <td>2.0</td>\n",
       "      <td>0.0</td>\n",
       "      <td>New York-Newark-Jersey City, NY-NJ-PA MSA</td>\n",
       "      <td>ultimate</td>\n",
       "      <td>NaN</td>\n",
       "      <td>70.00</td>\n",
       "    </tr>\n",
       "    <tr>\n",
       "      <th>2291</th>\n",
       "      <td>1108</td>\n",
       "      <td>12</td>\n",
       "      <td>0.0</td>\n",
       "      <td>0.0</td>\n",
       "      <td>0.0</td>\n",
       "      <td>1.0</td>\n",
       "      <td>Salt Lake City, UT MSA</td>\n",
       "      <td>ultimate</td>\n",
       "      <td>NaN</td>\n",
       "      <td>70.00</td>\n",
       "    </tr>\n",
       "    <tr>\n",
       "      <th>2292</th>\n",
       "      <td>1311</td>\n",
       "      <td>6</td>\n",
       "      <td>0.0</td>\n",
       "      <td>0.0</td>\n",
       "      <td>0.0</td>\n",
       "      <td>2.0</td>\n",
       "      <td>Memphis, TN-MS-AR MSA</td>\n",
       "      <td>ultimate</td>\n",
       "      <td>NaN</td>\n",
       "      <td>70.00</td>\n",
       "    </tr>\n",
       "  </tbody>\n",
       "</table>\n",
       "<p>2293 rows × 10 columns</p>\n",
       "</div>"
      ],
      "text/plain": [
       "      user_id  month  calls_per_user  duration  messages_per_user  gb_used  \\\n",
       "0        1000     12            16.0     124.0               11.0      2.0   \n",
       "1        1001      8            27.0     182.0               30.0      7.0   \n",
       "2        1001      9            49.0     315.0               44.0     14.0   \n",
       "3        1001     10            65.0     393.0               53.0     22.0   \n",
       "4        1001     11            64.0     426.0               36.0     19.0   \n",
       "...       ...    ...             ...       ...                ...      ...   \n",
       "2288     1349     12             0.0       0.0               61.0     13.0   \n",
       "2289     1361      5             0.0       0.0                2.0      2.0   \n",
       "2290     1482     10             0.0       0.0                2.0      0.0   \n",
       "2291     1108     12             0.0       0.0                0.0      1.0   \n",
       "2292     1311      6             0.0       0.0                0.0      2.0   \n",
       "\n",
       "                                           city      plan churn_date  \\\n",
       "0         Atlanta-Sandy Springs-Roswell, GA MSA  ultimate        NaN   \n",
       "1               Seattle-Tacoma-Bellevue, WA MSA      surf        NaN   \n",
       "2               Seattle-Tacoma-Bellevue, WA MSA      surf        NaN   \n",
       "3               Seattle-Tacoma-Bellevue, WA MSA      surf        NaN   \n",
       "4               Seattle-Tacoma-Bellevue, WA MSA      surf        NaN   \n",
       "...                                         ...       ...        ...   \n",
       "2288         Boston-Cambridge-Newton, MA-NH MSA      surf        NaN   \n",
       "2289                  Birmingham-Hoover, AL MSA      surf        NaN   \n",
       "2290  New York-Newark-Jersey City, NY-NJ-PA MSA  ultimate        NaN   \n",
       "2291                     Salt Lake City, UT MSA  ultimate        NaN   \n",
       "2292                      Memphis, TN-MS-AR MSA  ultimate        NaN   \n",
       "\n",
       "      total_charge  \n",
       "0            70.00  \n",
       "1            20.00  \n",
       "2            20.00  \n",
       "3            90.09  \n",
       "4            60.00  \n",
       "...            ...  \n",
       "2288         20.33  \n",
       "2289         20.00  \n",
       "2290         70.00  \n",
       "2291         70.00  \n",
       "2292         70.00  \n",
       "\n",
       "[2293 rows x 10 columns]"
      ]
     },
     "metadata": {},
     "output_type": "display_data"
    }
   ],
   "source": [
    "# Calculate the monthly revenue for each user\n",
    "display(plans)\n",
    "\n",
    "def plan_pricing(row):\n",
    "    surf_monthly_charge = plans.loc[0, 'usd_monthly_pay']\n",
    "    surf_minutes_limit = plans.loc[0, 'minutes_included']\n",
    "    surf_text_limit = plans.loc[0, 'messages_included']\n",
    "    surf_data_limit = plans.loc[0, 'mb_per_month_included'] / 1024\n",
    "    surf_extra_minute_price = plans.loc[0, 'usd_per_minute']\n",
    "    surf_extra_text_price = plans.loc[0, 'usd_per_message']\n",
    "    surf_extra_gb_price = plans.loc[0, 'usd_per_gb']\n",
    "\n",
    "    ultimate_monthly_charge = plans.loc[1, 'usd_monthly_pay']\n",
    "    ultimate_minutes_limit = plans.loc[1, 'minutes_included']\n",
    "    ultimate_text_limit = plans.loc[1, 'messages_included']\n",
    "    ultimate_data_limit = plans.loc[1, 'mb_per_month_included'] / 1024\n",
    "    ultimate_extra_minute_price = plans.loc[1, 'usd_per_minute']\n",
    "    ultimate_extra_text_price = plans.loc[1, 'usd_per_message']\n",
    "    ultimate_extra_gb_price = plans.loc[1, 'usd_per_gb']\n",
    "    \n",
    "    \n",
    "    if row['plan'] == 'surf':\n",
    "        surf_extra_minutes = max(row['duration'] - surf_minutes_limit, 0) * surf_extra_minute_price\n",
    "        surf_extra_texts = max(row['messages_per_user'] - surf_text_limit, 0) * surf_extra_text_price\n",
    "        surf_extra_gbs = max(row['gb_used'] - surf_data_limit, 0) * surf_extra_gb_price\n",
    "        total_charge = surf_monthly_charge + surf_extra_minutes + surf_extra_texts + surf_extra_gbs\n",
    "        \n",
    "    elif row['plan'] == 'ultimate':\n",
    "        ultimate_extra_minutes = max(row['duration'] - ultimate_minutes_limit, 0) * ultimate_extra_minute_price\n",
    "        ultimate_extra_texts = max(row['messages_per_user'] - ultimate_text_limit, 0) * ultimate_extra_text_price\n",
    "        ultimate_extra_gbs = max(row['gb_used'] - ultimate_data_limit, 0) * ultimate_extra_gb_price\n",
    "        total_charge = ultimate_monthly_charge + ultimate_extra_minutes + ultimate_extra_texts + ultimate_extra_gbs\n",
    "        \n",
    "    else:\n",
    "        total_charge = None\n",
    "        \n",
    "    \n",
    "    return total_charge\n",
    "\n",
    "user_stats_plan['total_charge'] = user_stats_plan.apply(plan_pricing, axis=1)\n",
    "display(user_stats_plan)\n"
   ]
  },
  {
   "cell_type": "markdown",
   "metadata": {},
   "source": [
    "## Study user behaviour"
   ]
  },
  {
   "cell_type": "markdown",
   "metadata": {},
   "source": [
    "[Calculate some useful descriptive statistics for the aggregated and merged data, which typically reveal an overall picture captured by the data. Draw useful plots to help the understanding. Given that the main task is to compare the plans and decide on which one is more profitable, the statistics and the plots should be calculated on a per-plan basis.]\n",
    "\n",
    "[There are relevant hints in the comments for Calls but they are not provided for Messages and Internet though the principle of statistical study is the same for them as for Calls.]"
   ]
  },
  {
   "cell_type": "markdown",
   "metadata": {},
   "source": [
    "### Calls"
   ]
  },
  {
   "cell_type": "code",
   "execution_count": 26,
   "metadata": {},
   "outputs": [
    {
     "data": {
      "image/png": "[encoded data removed]",
      "text/plain": [
       "<Figure size 432x288 with 1 Axes>"
      ]
     },
     "metadata": {
      "needs_background": "light"
     },
     "output_type": "display_data"
    }
   ],
   "source": [
    "# Compare average duration of calls per each plan per each distinct month. Plot a bar plat to visualize it.\n",
    "avg_duration = user_stats_plan.groupby(['plan', 'month'])['duration'].mean()\n",
    "avg_duration = avg_duration.reset_index()\n",
    "avg_duration = avg_duration.pivot_table(values='duration', index='month', columns='plan')\n",
    "avg_duration.plot(kind='bar', \n",
    "                 xlabel='Month', \n",
    "                 ylabel='Average Call Time', \n",
    "                 title='Average Call Time per Plan per Month', \n",
    "                 )\n",
    "plt.show()"
   ]
  },
  {
   "cell_type": "code",
   "execution_count": 27,
   "metadata": {},
   "outputs": [
    {
     "data": {
      "image/png": "[encoded data removed]",
      "text/plain": [
       "<Figure size 720x576 with 1 Axes>"
      ]
     },
     "metadata": {},
     "output_type": "display_data"
    }
   ],
   "source": [
    "# Compare the number of minutes users of each plan require each month. Plot a histogram.\n",
    "plt.style.use('ggplot')\n",
    "\n",
    "user_stats_plan.groupby('plan')['duration'].plot.hist(alpha=0.5, legend=True, bins=25, figsize=(10,8))\n",
    "\n",
    "plt.legend(['Surf', 'Ultimate'])\n",
    "plt.title('Monthly duration distribution')\n",
    "plt.xlabel('Minutes')\n",
    "plt.ylabel('Number of clients')\n",
    "\n",
    "plt.show()"
   ]
  },
  {
   "cell_type": "code",
   "execution_count": 28,
   "metadata": {
    "scrolled": false
   },
   "outputs": [
    {
     "data": {
      "image/png": "[encoded data removed]",
      "text/plain": [
       "<Figure size 720x576 with 1 Axes>"
      ]
     },
     "metadata": {},
     "output_type": "display_data"
    }
   ],
   "source": [
    "# Reviewer's code 2\n",
    "\n",
    "plt.style.use('ggplot') # Add style. You can put it in the very first cell, after plt is defined.\n",
    "\n",
    "user_stats_plan.groupby('plan')['duration'].plot.hist(alpha=0.5, legend=True, bins=25, figsize=(10,8))\n",
    "\n",
    "plt.legend(['Surf', 'Ultimate'])\n",
    "plt.title('Monthly duration distribution')\n",
    "plt.xlabel('Minutes')\n",
    "plt.ylabel('Number of clients')\n",
    "\n",
    "plt.show()"
   ]
  },
  {
   "cell_type": "markdown",
   "metadata": {},
   "source": [
    "First group the plans using groupby() and then get the mean, variance, and standard deviation in the grouped data."
   ]
  },
  {
   "cell_type": "code",
   "execution_count": 29,
   "metadata": {},
   "outputs": [
    {
     "name": "stdout",
     "output_type": "stream",
     "text": [
      "The mean monthly call duration is:  plan\n",
      "surf        428.749523\n",
      "ultimate    430.450000\n",
      "Name: duration, dtype: float64\n",
      "The variance of the monthly call duration is:  plan\n",
      "surf        54968.279461\n",
      "ultimate    57844.464812\n",
      "Name: duration, dtype: float64\n",
      "The standard deviation is:  plan\n",
      "surf        234.453150\n",
      "ultimate    240.508762\n",
      "Name: duration, dtype: float64\n"
     ]
    }
   ],
   "source": [
    "# Calculate the mean and the variance of the monthly call duration\n",
    "plan_groups = user_stats_plan.groupby('plan')\n",
    "mean_duration = plan_groups['duration'].mean()\n",
    "variance_duration = plan_groups['duration'].var()\n",
    "std_duration = np.sqrt(variance_duration)\n",
    "\n",
    "print('The mean monthly call duration is: ', mean_duration)\n",
    "print('The variance of the monthly call duration is: ', variance_duration)\n",
    "print('The standard deviation is: ', std_duration)"
   ]
  },
  {
   "cell_type": "code",
   "execution_count": 30,
   "metadata": {},
   "outputs": [
    {
     "data": {
      "text/html": [
       "<div>\n",
       "<style scoped>\n",
       "    .dataframe tbody tr th:only-of-type {\n",
       "        vertical-align: middle;\n",
       "    }\n",
       "\n",
       "    .dataframe tbody tr th {\n",
       "        vertical-align: top;\n",
       "    }\n",
       "\n",
       "    .dataframe thead tr th {\n",
       "        text-align: left;\n",
       "    }\n",
       "\n",
       "    .dataframe thead tr:last-of-type th {\n",
       "        text-align: right;\n",
       "    }\n",
       "</style>\n",
       "<table border=\"1\" class=\"dataframe\">\n",
       "  <thead>\n",
       "    <tr>\n",
       "      <th></th>\n",
       "      <th colspan=\"3\" halign=\"left\">mean</th>\n",
       "      <th colspan=\"3\" halign=\"left\">std</th>\n",
       "      <th colspan=\"3\" halign=\"left\">var</th>\n",
       "    </tr>\n",
       "    <tr>\n",
       "      <th></th>\n",
       "      <th>duration</th>\n",
       "      <th>gb_used</th>\n",
       "      <th>messages_per_user</th>\n",
       "      <th>duration</th>\n",
       "      <th>gb_used</th>\n",
       "      <th>messages_per_user</th>\n",
       "      <th>duration</th>\n",
       "      <th>gb_used</th>\n",
       "      <th>messages_per_user</th>\n",
       "    </tr>\n",
       "    <tr>\n",
       "      <th>plan</th>\n",
       "      <th></th>\n",
       "      <th></th>\n",
       "      <th></th>\n",
       "      <th></th>\n",
       "      <th></th>\n",
       "      <th></th>\n",
       "      <th></th>\n",
       "      <th></th>\n",
       "      <th></th>\n",
       "    </tr>\n",
       "  </thead>\n",
       "  <tbody>\n",
       "    <tr>\n",
       "      <th>surf</th>\n",
       "      <td>428.749523</td>\n",
       "      <td>16.670693</td>\n",
       "      <td>31.159568</td>\n",
       "      <td>234.453150</td>\n",
       "      <td>7.847522</td>\n",
       "      <td>33.566717</td>\n",
       "      <td>54968.279461</td>\n",
       "      <td>61.58360</td>\n",
       "      <td>1126.724522</td>\n",
       "    </tr>\n",
       "    <tr>\n",
       "      <th>ultimate</th>\n",
       "      <td>430.450000</td>\n",
       "      <td>17.306944</td>\n",
       "      <td>37.551389</td>\n",
       "      <td>240.508762</td>\n",
       "      <td>7.670108</td>\n",
       "      <td>34.767179</td>\n",
       "      <td>57844.464812</td>\n",
       "      <td>58.83055</td>\n",
       "      <td>1208.756744</td>\n",
       "    </tr>\n",
       "  </tbody>\n",
       "</table>\n",
       "</div>"
      ],
      "text/plain": [
       "                mean                                      std            \\\n",
       "            duration    gb_used messages_per_user    duration   gb_used   \n",
       "plan                                                                      \n",
       "surf      428.749523  16.670693         31.159568  234.453150  7.847522   \n",
       "ultimate  430.450000  17.306944         37.551389  240.508762  7.670108   \n",
       "\n",
       "                                     var                              \n",
       "         messages_per_user      duration   gb_used messages_per_user  \n",
       "plan                                                                  \n",
       "surf             33.566717  54968.279461  61.58360       1126.724522  \n",
       "ultimate         34.767179  57844.464812  58.83055       1208.756744  "
      ]
     },
     "execution_count": 30,
     "metadata": {},
     "output_type": "execute_result"
    }
   ],
   "source": [
    "# Reviewer's code 3\n",
    "\n",
    "user_stats_plan.pivot_table(index='plan', values=['duration', 'messages_per_user', 'gb_used'],\n",
    "                       aggfunc=['mean', 'std', 'var'])"
   ]
  },
  {
   "cell_type": "code",
   "execution_count": 31,
   "metadata": {
    "scrolled": false
   },
   "outputs": [
    {
     "data": {
      "image/png": "[encoded data removed]",
      "text/plain": [
       "<Figure size 432x288 with 1 Axes>"
      ]
     },
     "metadata": {},
     "output_type": "display_data"
    }
   ],
   "source": [
    "# Plot a boxplot to visualize the distribution of the monthly call duration\n",
    "plans_time = user_stats_plan.groupby('plan')\n",
    "\n",
    "box_plot_time = pd.DataFrame({\n",
    "    'Surf': plans_time.get_group('surf')['duration'],\n",
    "    'Ultimate': plans_time.get_group('ultimate')['duration']\n",
    "})\n",
    "box_plot_time.boxplot()\n",
    "plt.show()"
   ]
  },
  {
   "cell_type": "markdown",
   "metadata": {},
   "source": [
    " Based on the boxplot, the users are very similar in their call times. The Surf plan users seem to have a slighter higher call duration from Q1 to Q3, and a few larger outliers in comparison to the Ultimate plan users."
   ]
  },
  {
   "cell_type": "markdown",
   "metadata": {},
   "source": [
    "### Messages"
   ]
  },
  {
   "cell_type": "code",
   "execution_count": 32,
   "metadata": {},
   "outputs": [],
   "source": [
    "# Compare the number of messages users of each plan tend to send each month"
   ]
  },
  {
   "cell_type": "code",
   "execution_count": 33,
   "metadata": {},
   "outputs": [
    {
     "data": {
      "image/png": "[encoded data removed]",
      "text/plain": [
       "<Figure size 720x576 with 1 Axes>"
      ]
     },
     "metadata": {},
     "output_type": "display_data"
    },
    {
     "name": "stdout",
     "output_type": "stream",
     "text": [
      "The mean monthly message amount is:  plan\n",
      "surf        31.159568\n",
      "ultimate    37.551389\n",
      "Name: messages_per_user, dtype: float64\n",
      "The variance of the monthly message amount is:  plan\n",
      "surf        1126.724522\n",
      "ultimate    1208.756744\n",
      "Name: messages_per_user, dtype: float64\n",
      "The standard deviation is:  plan\n",
      "surf        33.566717\n",
      "ultimate    34.767179\n",
      "Name: messages_per_user, dtype: float64\n"
     ]
    }
   ],
   "source": [
    "user_stats_plan.groupby('plan')['messages_per_user'].plot.hist(alpha=0.5, legend=True, bins=25, figsize=(10,8))\n",
    "\n",
    "plt.legend(['Surf', 'Ultimate'])\n",
    "plt.title('Total Messages per Plan')\n",
    "plt.xlabel('Total Amount')\n",
    "plt.ylabel('Users')\n",
    "\n",
    "plt.show()\n",
    "\n",
    "plan_messages = user_stats_plan.groupby('plan')\n",
    "mean_messages = plan_messages['messages_per_user'].mean()\n",
    "variance_messages = plan_messages['messages_per_user'].var()\n",
    "std_messages = np.sqrt(variance_messages)\n",
    "\n",
    "print('The mean monthly message amount is: ', mean_messages)\n",
    "print('The variance of the monthly message amount is: ', variance_messages)\n",
    "print('The standard deviation is: ', std_messages)"
   ]
  },
  {
   "cell_type": "markdown",
   "metadata": {},
   "source": [
    "Based on the histogram, the mean, and the variance of the monthly message amount, it would seem that the surf and ultimate plan users are very close in their message amounts, with the ultimate plan users having slightly more messages per month."
   ]
  },
  {
   "cell_type": "markdown",
   "metadata": {},
   "source": [
    "### Internet"
   ]
  },
  {
   "cell_type": "code",
   "execution_count": 34,
   "metadata": {},
   "outputs": [],
   "source": [
    "# Compare the amount of internet traffic consumed by users per plan"
   ]
  },
  {
   "cell_type": "code",
   "execution_count": 35,
   "metadata": {},
   "outputs": [
    {
     "data": {
      "image/png": "[encoded data removed]",
      "text/plain": [
       "<Figure size 720x576 with 1 Axes>"
      ]
     },
     "metadata": {},
     "output_type": "display_data"
    },
    {
     "name": "stdout",
     "output_type": "stream",
     "text": [
      "The mean monthly data usage is:  plan\n",
      "surf        16.670693\n",
      "ultimate    17.306944\n",
      "Name: gb_used, dtype: float64\n",
      "The variance of the monthly data usage is:  plan\n",
      "surf        61.58360\n",
      "ultimate    58.83055\n",
      "Name: gb_used, dtype: float64\n",
      "The standard deviation is:  plan\n",
      "surf        7.847522\n",
      "ultimate    7.670108\n",
      "Name: gb_used, dtype: float64\n"
     ]
    }
   ],
   "source": [
    "user_stats_plan.groupby('plan')['gb_used'].plot.hist(alpha=0.5, legend=True, bins=25, figsize=(10,8))\n",
    "\n",
    "plt.legend(['Surf', 'Ultimate'])\n",
    "plt.title('Total Data Usage per Plan')\n",
    "plt.xlabel('Total Amount')\n",
    "plt.ylabel('Users')\n",
    "\n",
    "plt.show()\n",
    "\n",
    "plan_traffic = user_stats_plan.groupby('plan')\n",
    "mean_traffic = plan_traffic['gb_used'].mean()\n",
    "variance_traffic = plan_traffic['gb_used'].var()\n",
    "std_traffic = np.sqrt(variance_traffic)\n",
    "\n",
    "print('The mean monthly data usage is: ', mean_traffic)\n",
    "print('The variance of the monthly data usage is: ', variance_traffic)\n",
    "print('The standard deviation is: ', std_traffic)"
   ]
  },
  {
   "cell_type": "markdown",
   "metadata": {},
   "source": [
    "Based on the histogram, mean, and variance of the monthly data usage, it would seem the surf and ultimate users are very close in similarity, with the ultimate plan users having a slightly higher amount of data usage per month."
   ]
  },
  {
   "cell_type": "markdown",
   "metadata": {},
   "source": [
    "## Revenue"
   ]
  },
  {
   "cell_type": "code",
   "execution_count": 36,
   "metadata": {},
   "outputs": [
    {
     "data": {
      "image/png": "[encoded data removed]",
      "text/plain": [
       "<Figure size 720x576 with 1 Axes>"
      ]
     },
     "metadata": {},
     "output_type": "display_data"
    },
    {
     "name": "stdout",
     "output_type": "stream",
     "text": [
      "The mean monthly revenue is:  plan\n",
      "surf        60.706408\n",
      "ultimate    72.313889\n",
      "Name: total_charge, dtype: float64\n",
      "The variance of the monthly revenue is:  plan\n",
      "surf        3067.835152\n",
      "ultimate     129.848486\n",
      "Name: total_charge, dtype: float64\n",
      "The standard deviation is:  plan\n",
      "surf        55.388042\n",
      "ultimate    11.395108\n",
      "Name: total_charge, dtype: float64\n"
     ]
    }
   ],
   "source": [
    "user_stats_plan.groupby('plan')['total_charge'].plot.hist(alpha=0.5, legend=True, bins=20, figsize=(10,8))\n",
    "\n",
    "plt.legend(['Surf', 'Ultimate'])\n",
    "plt.title('Total Revenue per Plan')\n",
    "plt.xlabel('Total Amount')\n",
    "plt.ylabel('Users')\n",
    "\n",
    "plt.show()\n",
    "\n",
    "\n",
    "plan_rev = user_stats_plan.groupby('plan')\n",
    "mean_rev = plan_rev['total_charge'].mean()\n",
    "variance_rev = plan_rev['total_charge'].var()\n",
    "std_rev = np.sqrt(variance_rev)\n",
    "\n",
    "print('The mean monthly revenue is: ', mean_rev)\n",
    "print('The variance of the monthly revenue is: ', variance_rev)\n",
    "print('The standard deviation is: ', std_rev)"
   ]
  },
  {
   "cell_type": "markdown",
   "metadata": {},
   "source": [
    "The total revenue between the surf plan users and ultimate plan users is drastically different. A large amount of surf plan users went well over their monthly plan limits, where as the ultimate plan users mostly stayed within their monthly plan limits."
   ]
  },
  {
   "cell_type": "markdown",
   "metadata": {},
   "source": [
    "## Test statistical hypotheses"
   ]
  },
  {
   "cell_type": "markdown",
   "metadata": {},
   "source": [
    "Null Hypothesis (H0): The average revenue from Surf and Ultimate users are the same.\n",
    "Alternative Hypothesis (H1): The average revenue from Surf and Ultimate users are different."
   ]
  },
  {
   "cell_type": "code",
   "execution_count": 37,
   "metadata": {},
   "outputs": [
    {
     "name": "stdout",
     "output_type": "stream",
     "text": [
      "p-value: 3.17039054811355e-15\n",
      "We can reject the null hypothesis due to the significant difference between average revenues between the plans.\n"
     ]
    }
   ],
   "source": [
    "# Test the hypotheses\n",
    "surf_total_charge = user_stats_plan.loc[user_stats_plan['plan'] == 'surf', 'total_charge']\n",
    "ultimate_total_charge = user_stats_plan.loc[user_stats_plan['plan'] == 'ultimate', 'total_charge']\n",
    "\n",
    "results = st.ttest_ind(ultimate_total_charge, surf_total_charge, equal_var=False)\n",
    "\n",
    "alpha = 0.05\n",
    "\n",
    "print('p-value:', results.pvalue)\n",
    "\n",
    "if results.pvalue < alpha:\n",
    "    print('We can reject the null hypothesis due to the significant difference between average revenues between the plans.')\n",
    "else:\n",
    "    print(\"We can't reject the null hypothesis since there is no significant difference between the average revenues of the plans.\")\n"
   ]
  },
  {
   "cell_type": "markdown",
   "metadata": {},
   "source": [
    "Null Hypothesis (H0): The average revenue in NY-NJ is the same as the average of other areas.\n",
    "Alternative Hypothesis (H1): The average revenue in NY-NJ is different from other areas."
   ]
  },
  {
   "cell_type": "code",
   "execution_count": 39,
   "metadata": {},
   "outputs": [
    {
     "name": "stdout",
     "output_type": "stream",
     "text": [
      "We can reject the null hypothesis due to the significant difference in the average revenue from customers in NY-NJ and the rest of the regions.\n",
      "p-value:  0.043557431621342436\n"
     ]
    }
   ],
   "source": [
    "# Test the hypotheses\n",
    "nynj_rev = user_stats_plan[user_stats_plan['city'].str.contains('NY-NJ', na=False)]['total_charge']\n",
    "other_rev = user_stats_plan[~user_stats_plan['city'].str.contains('NY-NJ', na=False)]['total_charge']\n",
    "\n",
    "results_rev = st.ttest_ind(nynj_rev, other_rev)\n",
    "\n",
    "alpha = 0.05\n",
    "\n",
    "p_value = (results_rev.pvalue)\n",
    "\n",
    "if p_value < alpha:\n",
    "    print(\"We can reject the null hypothesis due to the significant difference in the average revenue from customers in NY-NJ and the rest of the regions.\")\n",
    "else:\n",
    "    print(\"We can't reject the null hypothesis since there is no significant difference.\")\n",
    "print('p-value: ',p_value)"
   ]
  },
  {
   "cell_type": "code",
   "execution_count": null,
   "metadata": {},
   "outputs": [],
   "source": [
    "# Reviewer's code 3 \n",
    "\n",
    "print(nynj_rev, '\\n====')\n",
    "\n",
    "display(user_stats_plan['city'])\n",
    "\n",
    "\n",
    "print('=' * 10)\n",
    "\n",
    "user_stats_plan[user_stats_plan['city'] == 'NY-NJ']"
   ]
  },
  {
   "cell_type": "markdown",
   "metadata": {},
   "source": [
    "## General conclusion\n",
    "\n",
    "[List your important conclusions in this final section, make sure they cover all those important decisions (assumptions) that you've made and that led you to the way you processed and analyzed the data.]"
   ]
  },
  {
   "cell_type": "markdown",
   "metadata": {},
   "source": [
    "To figure out which plan brings in more revenue, I conducted an analysis on 500 customers, some of which had the Surf plan, and some of which had the Ultimate plan. I looked at the amount of call time, messages, and data between the users of both plans to then calculate the total revenue of each user. When looking at the averages of each of these, it's clear that the Surf plan users, more often than not, went over their plan limits. Below, I added the total amounts of revenue from all the users of each plan together. The surf plan total revenue is almost double that of the ultimate plan total revenue. \n",
    "The plan that is better to bring in more revenue is the Surf plan.\n",
    "The plan that is better for the customer to save money is the Ultimate plan."
   ]
  },
  {
   "cell_type": "code",
   "execution_count": null,
   "metadata": {},
   "outputs": [],
   "source": [
    "total_amount_by_plan = user_stats_plan.groupby('plan')['total_charge'].sum()\n",
    "\n",
    "print(total_amount_by_plan)"
   ]
  }
 ],
 "metadata": {
  "ExecuteTimeLog": [
   {
    "duration": 828,
    "start_time": "2021-11-16T09:21:11.304Z"
   },
   {
    "duration": 893,
    "start_time": "2021-11-16T09:21:17.728Z"
   },
   {
    "duration": 1150,
    "start_time": "2021-11-16T09:21:29.568Z"
   },
   {
    "duration": 3,
    "start_time": "2021-11-16T09:24:14.495Z"
   },
   {
    "duration": 120,
    "start_time": "2021-11-16T09:24:46.630Z"
   },
   {
    "duration": 3,
    "start_time": "2021-11-16T09:28:27.882Z"
   },
   {
    "duration": 4,
    "start_time": "2021-11-16T09:29:54.281Z"
   },
   {
    "duration": 3,
    "start_time": "2021-11-16T09:30:45.936Z"
   },
   {
    "duration": 4,
    "start_time": "2021-11-16T09:31:06.300Z"
   },
   {
    "duration": 113,
    "start_time": "2021-11-16T09:31:37.208Z"
   },
   {
    "duration": 143,
    "start_time": "2021-11-16T09:31:48.656Z"
   },
   {
    "duration": 98,
    "start_time": "2021-11-16T09:31:55.678Z"
   },
   {
    "duration": 3,
    "start_time": "2021-11-16T09:32:08.535Z"
   },
   {
    "duration": 111,
    "start_time": "2021-11-16T09:32:10.120Z"
   },
   {
    "duration": 3,
    "start_time": "2021-11-16T09:32:15.732Z"
   },
   {
    "duration": 4,
    "start_time": "2021-11-16T09:32:29.423Z"
   },
   {
    "duration": 3,
    "start_time": "2021-11-16T10:03:03.074Z"
   },
   {
    "duration": 3,
    "start_time": "2021-11-16T10:10:01.288Z"
   },
   {
    "duration": 3,
    "start_time": "2021-11-16T10:10:46.923Z"
   },
   {
    "duration": 121,
    "start_time": "2021-11-16T10:37:46.494Z"
   },
   {
    "duration": 125,
    "start_time": "2021-11-16T10:38:20.632Z"
   },
   {
    "duration": 112,
    "start_time": "2021-11-16T10:46:53.001Z"
   },
   {
    "duration": 110,
    "start_time": "2021-11-16T10:48:25.775Z"
   },
   {
    "duration": 3,
    "start_time": "2021-11-16T10:50:18.720Z"
   },
   {
    "duration": 4,
    "start_time": "2021-11-16T10:50:37.649Z"
   },
   {
    "duration": 2,
    "start_time": "2021-11-16T10:50:51.884Z"
   },
   {
    "duration": 3,
    "start_time": "2021-11-16T10:51:56.237Z"
   },
   {
    "duration": 101,
    "start_time": "2021-11-16T10:53:13.791Z"
   },
   {
    "duration": 3,
    "start_time": "2021-11-16T10:55:59.186Z"
   },
   {
    "duration": 3,
    "start_time": "2021-11-16T10:56:10.751Z"
   },
   {
    "duration": 3,
    "start_time": "2021-11-16T10:56:49.038Z"
   },
   {
    "duration": 3,
    "start_time": "2021-11-16T10:56:49.174Z"
   },
   {
    "duration": 4,
    "start_time": "2021-11-16T10:56:49.414Z"
   },
   {
    "duration": 3,
    "start_time": "2021-11-16T10:56:49.680Z"
   },
   {
    "duration": 3,
    "start_time": "2021-11-16T10:56:50.370Z"
   },
   {
    "duration": 114,
    "start_time": "2021-11-16T10:59:34.518Z"
   },
   {
    "duration": 3,
    "start_time": "2021-11-16T11:01:41.201Z"
   },
   {
    "duration": 116,
    "start_time": "2021-11-16T11:01:48.754Z"
   },
   {
    "duration": 3,
    "start_time": "2021-11-16T11:02:16.685Z"
   },
   {
    "duration": 3,
    "start_time": "2021-11-16T11:02:19.479Z"
   },
   {
    "duration": 3,
    "start_time": "2021-11-16T11:02:47.067Z"
   },
   {
    "duration": 3,
    "start_time": "2021-11-16T11:02:49.353Z"
   },
   {
    "duration": 3,
    "start_time": "2021-11-16T11:03:07.835Z"
   },
   {
    "duration": 3,
    "start_time": "2021-11-16T11:03:07.953Z"
   },
   {
    "duration": 112,
    "start_time": "2021-11-16T11:07:52.072Z"
   },
   {
    "duration": 187,
    "start_time": "2021-11-16T11:09:23.468Z"
   },
   {
    "duration": 4,
    "start_time": "2021-11-16T11:10:01.455Z"
   },
   {
    "duration": 3,
    "start_time": "2021-11-16T11:10:05.069Z"
   },
   {
    "duration": 4,
    "start_time": "2021-11-16T11:10:13.376Z"
   },
   {
    "duration": 3,
    "start_time": "2021-11-16T11:10:14.434Z"
   },
   {
    "duration": 3,
    "start_time": "2021-11-16T11:10:22.853Z"
   },
   {
    "duration": 4,
    "start_time": "2021-11-16T11:27:29.279Z"
   },
   {
    "duration": 4,
    "start_time": "2021-11-16T11:29:08.919Z"
   },
   {
    "duration": 118,
    "start_time": "2021-11-16T11:29:46.703Z"
   },
   {
    "duration": 437,
    "start_time": "2021-11-16T11:36:02.181Z"
   },
   {
    "duration": 157,
    "start_time": "2021-11-16T11:36:14.388Z"
   },
   {
    "duration": 207,
    "start_time": "2021-11-16T11:47:15.898Z"
   },
   {
    "duration": 3,
    "start_time": "2021-11-16T11:53:52.092Z"
   },
   {
    "duration": 3,
    "start_time": "2021-11-16T11:53:52.236Z"
   },
   {
    "duration": 3,
    "start_time": "2021-11-16T11:59:12.005Z"
   },
   {
    "duration": 112,
    "start_time": "2021-11-16T12:00:33.446Z"
   },
   {
    "duration": 3,
    "start_time": "2021-11-16T12:02:14.453Z"
   },
   {
    "duration": 3,
    "start_time": "2021-11-16T12:02:39.512Z"
   },
   {
    "duration": 106,
    "start_time": "2021-11-16T12:03:03.460Z"
   },
   {
    "duration": 3,
    "start_time": "2021-11-17T20:37:21.139Z"
   },
   {
    "duration": 3,
    "start_time": "2021-11-17T20:37:22.229Z"
   },
   {
    "duration": 3,
    "start_time": "2021-11-17T20:38:38.806Z"
   },
   {
    "duration": 3,
    "start_time": "2021-11-17T20:38:41.958Z"
   },
   {
    "duration": 3,
    "start_time": "2021-11-17T20:43:46.551Z"
   },
   {
    "duration": 4,
    "start_time": "2021-11-17T20:58:21.835Z"
   },
   {
    "duration": 3,
    "start_time": "2021-11-17T20:59:21.872Z"
   },
   {
    "duration": 4,
    "start_time": "2021-11-17T20:59:45.352Z"
   },
   {
    "duration": 4,
    "start_time": "2021-11-17T20:59:49.646Z"
   },
   {
    "duration": 159,
    "start_time": "2021-11-17T21:02:26.949Z"
   },
   {
    "duration": 3,
    "start_time": "2021-11-17T21:03:53.461Z"
   },
   {
    "duration": 3,
    "start_time": "2021-11-17T21:03:53.694Z"
   },
   {
    "duration": 3,
    "start_time": "2021-11-17T21:05:28.145Z"
   },
   {
    "duration": 116,
    "start_time": "2021-11-17T21:05:57.787Z"
   },
   {
    "duration": 3,
    "start_time": "2021-11-17T21:06:37.993Z"
   },
   {
    "duration": 3,
    "start_time": "2021-11-17T21:06:38.261Z"
   },
   {
    "duration": 3,
    "start_time": "2021-11-17T21:11:54.358Z"
   },
   {
    "duration": 3,
    "start_time": "2021-11-17T21:12:43.846Z"
   },
   {
    "duration": 4,
    "start_time": "2021-11-17T21:13:08.773Z"
   },
   {
    "duration": 3,
    "start_time": "2021-11-17T21:14:44.441Z"
   },
   {
    "duration": 3,
    "start_time": "2021-11-17T21:15:42.059Z"
   },
   {
    "duration": 4,
    "start_time": "2021-11-17T21:15:51.995Z"
   },
   {
    "duration": 3,
    "start_time": "2021-11-17T21:15:53.923Z"
   },
   {
    "duration": 3,
    "start_time": "2021-11-17T21:15:55.282Z"
   },
   {
    "duration": 3,
    "start_time": "2021-11-17T21:16:28.492Z"
   },
   {
    "duration": 3,
    "start_time": "2021-11-17T21:16:32.603Z"
   },
   {
    "duration": 3,
    "start_time": "2021-11-17T21:17:06.941Z"
   },
   {
    "duration": 98,
    "start_time": "2021-11-17T21:18:05.733Z"
   },
   {
    "duration": 4,
    "start_time": "2021-11-17T21:21:35.255Z"
   },
   {
    "duration": 3,
    "start_time": "2021-11-17T21:21:37.804Z"
   },
   {
    "duration": 4,
    "start_time": "2021-11-17T21:23:06.071Z"
   },
   {
    "duration": 3,
    "start_time": "2021-11-17T21:23:24.799Z"
   },
   {
    "duration": 3,
    "start_time": "2021-11-17T21:23:32.591Z"
   },
   {
    "duration": 98,
    "start_time": "2021-11-17T21:28:31.559Z"
   },
   {
    "duration": 3,
    "start_time": "2021-11-17T21:28:45.448Z"
   },
   {
    "duration": 3,
    "start_time": "2021-11-17T21:29:17.303Z"
   },
   {
    "duration": 3,
    "start_time": "2021-11-17T21:29:29.617Z"
   },
   {
    "duration": 3,
    "start_time": "2021-11-17T21:29:32.681Z"
   },
   {
    "duration": 3,
    "start_time": "2021-11-17T21:36:11.474Z"
   },
   {
    "duration": 3,
    "start_time": "2021-11-17T21:36:14.791Z"
   },
   {
    "duration": 3,
    "start_time": "2021-11-17T21:36:53.943Z"
   },
   {
    "duration": 3,
    "start_time": "2021-11-17T21:36:56.165Z"
   },
   {
    "duration": 4,
    "start_time": "2021-11-17T21:37:16.590Z"
   },
   {
    "duration": 3,
    "start_time": "2021-11-17T21:37:22.702Z"
   },
   {
    "duration": 4,
    "start_time": "2021-11-17T21:38:03.479Z"
   },
   {
    "duration": 3,
    "start_time": "2021-11-17T21:38:08.601Z"
   },
   {
    "duration": 3,
    "start_time": "2021-11-17T21:38:12.928Z"
   },
   {
    "duration": 3,
    "start_time": "2021-11-17T21:38:48.896Z"
   },
   {
    "duration": 2,
    "start_time": "2021-11-17T21:38:49.171Z"
   },
   {
    "duration": 4,
    "start_time": "2021-11-17T21:39:57.889Z"
   },
   {
    "duration": 3,
    "start_time": "2021-11-17T21:39:58.057Z"
   },
   {
    "duration": 3,
    "start_time": "2021-11-17T21:41:20.108Z"
   },
   {
    "duration": 3,
    "start_time": "2021-11-17T21:41:20.629Z"
   },
   {
    "duration": 3,
    "start_time": "2021-11-17T21:42:49.136Z"
   },
   {
    "duration": 3,
    "start_time": "2021-11-17T21:43:15.137Z"
   },
   {
    "duration": 4,
    "start_time": "2021-11-17T21:43:16.766Z"
   },
   {
    "duration": 4,
    "start_time": "2021-11-17T21:43:31.711Z"
   },
   {
    "duration": 3,
    "start_time": "2021-11-17T21:43:36.312Z"
   },
   {
    "duration": 4,
    "start_time": "2021-11-17T21:45:08.825Z"
   },
   {
    "duration": 4,
    "start_time": "2021-11-17T21:45:10.119Z"
   },
   {
    "duration": 4,
    "start_time": "2021-11-17T21:45:13.748Z"
   },
   {
    "duration": 3,
    "start_time": "2021-11-17T21:45:22.219Z"
   },
   {
    "duration": 3,
    "start_time": "2021-11-17T21:45:33.412Z"
   },
   {
    "duration": 2,
    "start_time": "2021-11-17T21:46:01.885Z"
   },
   {
    "duration": 3,
    "start_time": "2021-11-17T21:46:03.628Z"
   },
   {
    "duration": 107,
    "start_time": "2021-11-17T21:47:32.512Z"
   },
   {
    "duration": 103,
    "start_time": "2021-11-17T21:50:36.243Z"
   },
   {
    "duration": 3,
    "start_time": "2021-11-18T06:28:31.440Z"
   },
   {
    "duration": 3,
    "start_time": "2021-11-18T06:29:00.168Z"
   },
   {
    "duration": 3,
    "start_time": "2021-11-18T06:31:27.008Z"
   },
   {
    "duration": 2,
    "start_time": "2021-11-18T06:35:34.288Z"
   },
   {
    "duration": 2,
    "start_time": "2021-11-18T06:38:04.527Z"
   }
  ],
  "kernelspec": {
   "display_name": "Python 3 (ipykernel)",
   "language": "python",
   "name": "python3"
  },
  "language_info": {
   "codemirror_mode": {
    "name": "ipython",
    "version": 3
   },
   "file_extension": ".py",
   "mimetype": "text/x-python",
   "name": "python",
   "nbconvert_exporter": "python",
   "pygments_lexer": "ipython3",
   "version": "3.10.2"
  },
  "toc": {
   "base_numbering": 1,
   "nav_menu": {},
   "number_sections": true,
   "sideBar": true,
   "skip_h1_title": false,
   "title_cell": "Table of Contents",
   "title_sidebar": "Contents",
   "toc_cell": false,
   "toc_position": {
    "height": "calc(100% - 180px)",
    "left": "10px",
    "top": "150px",
    "width": "240.4px"
   },
   "toc_section_display": true,
   "toc_window_display": true
  }
 },
 "nbformat": 4,
 "nbformat_minor": 2
}
